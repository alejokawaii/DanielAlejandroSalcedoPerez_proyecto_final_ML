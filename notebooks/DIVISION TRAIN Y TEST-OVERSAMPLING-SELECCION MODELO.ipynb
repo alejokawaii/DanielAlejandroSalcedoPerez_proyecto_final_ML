{
 "cells": [
  {
   "cell_type": "code",
   "execution_count": 40,
   "metadata": {},
   "outputs": [],
   "source": [
    "import pandas as pd\n",
    "import matplotlib.pyplot as plt\n",
    "import numpy as np\n",
    "dataframe_procesada=pd.read_csv(\"../data/processed/datos_procesados.csv\",index_col=False)"
   ]
  },
  {
   "cell_type": "code",
   "execution_count": 2,
   "metadata": {},
   "outputs": [
    {
     "data": {
      "text/plain": [
       "Index(['ID', 'lsat', 'grad', 'zgpa', 'fulltime', 'fam_inc', 'male', 'Dropout',\n",
       "       'white', 'other', 'asian', 'black', 'hisp', 'pass_bar', 'tier',\n",
       "       'indxgrp', 'gpa'],\n",
       "      dtype='object')"
      ]
     },
     "execution_count": 2,
     "metadata": {},
     "output_type": "execute_result"
    }
   ],
   "source": [
    "dataframe_procesada.columns"
   ]
  },
  {
   "cell_type": "code",
   "execution_count": 3,
   "metadata": {},
   "outputs": [
    {
     "data": {
      "text/html": [
       "<div>\n",
       "<style scoped>\n",
       "    .dataframe tbody tr th:only-of-type {\n",
       "        vertical-align: middle;\n",
       "    }\n",
       "\n",
       "    .dataframe tbody tr th {\n",
       "        vertical-align: top;\n",
       "    }\n",
       "\n",
       "    .dataframe thead th {\n",
       "        text-align: right;\n",
       "    }\n",
       "</style>\n",
       "<table border=\"1\" class=\"dataframe\">\n",
       "  <thead>\n",
       "    <tr style=\"text-align: right;\">\n",
       "      <th></th>\n",
       "      <th>ID</th>\n",
       "      <th>lsat</th>\n",
       "      <th>grad</th>\n",
       "      <th>zgpa</th>\n",
       "      <th>fulltime</th>\n",
       "      <th>fam_inc</th>\n",
       "      <th>male</th>\n",
       "      <th>Dropout</th>\n",
       "      <th>white</th>\n",
       "      <th>other</th>\n",
       "      <th>asian</th>\n",
       "      <th>black</th>\n",
       "      <th>hisp</th>\n",
       "      <th>pass_bar</th>\n",
       "      <th>tier</th>\n",
       "      <th>indxgrp</th>\n",
       "      <th>gpa</th>\n",
       "    </tr>\n",
       "  </thead>\n",
       "  <tbody>\n",
       "    <tr>\n",
       "      <th>0</th>\n",
       "      <td>2</td>\n",
       "      <td>44.0</td>\n",
       "      <td>1</td>\n",
       "      <td>1.88</td>\n",
       "      <td>1.0</td>\n",
       "      <td>5.0</td>\n",
       "      <td>0.0</td>\n",
       "      <td>1</td>\n",
       "      <td>1.0</td>\n",
       "      <td>0</td>\n",
       "      <td>0</td>\n",
       "      <td>0</td>\n",
       "      <td>0</td>\n",
       "      <td>1</td>\n",
       "      <td>4.0</td>\n",
       "      <td>7</td>\n",
       "      <td>3.5</td>\n",
       "    </tr>\n",
       "    <tr>\n",
       "      <th>1</th>\n",
       "      <td>3</td>\n",
       "      <td>29.0</td>\n",
       "      <td>1</td>\n",
       "      <td>-0.57</td>\n",
       "      <td>1.0</td>\n",
       "      <td>4.0</td>\n",
       "      <td>0.0</td>\n",
       "      <td>1</td>\n",
       "      <td>1.0</td>\n",
       "      <td>0</td>\n",
       "      <td>0</td>\n",
       "      <td>0</td>\n",
       "      <td>0</td>\n",
       "      <td>1</td>\n",
       "      <td>2.0</td>\n",
       "      <td>6</td>\n",
       "      <td>3.5</td>\n",
       "    </tr>\n",
       "    <tr>\n",
       "      <th>2</th>\n",
       "      <td>36</td>\n",
       "      <td>36.0</td>\n",
       "      <td>1</td>\n",
       "      <td>-1.12</td>\n",
       "      <td>1.0</td>\n",
       "      <td>1.0</td>\n",
       "      <td>1.0</td>\n",
       "      <td>1</td>\n",
       "      <td>1.0</td>\n",
       "      <td>0</td>\n",
       "      <td>0</td>\n",
       "      <td>0</td>\n",
       "      <td>0</td>\n",
       "      <td>1</td>\n",
       "      <td>3.0</td>\n",
       "      <td>7</td>\n",
       "      <td>3.5</td>\n",
       "    </tr>\n",
       "    <tr>\n",
       "      <th>3</th>\n",
       "      <td>52</td>\n",
       "      <td>39.0</td>\n",
       "      <td>1</td>\n",
       "      <td>-0.49</td>\n",
       "      <td>1.0</td>\n",
       "      <td>4.0</td>\n",
       "      <td>1.0</td>\n",
       "      <td>1</td>\n",
       "      <td>1.0</td>\n",
       "      <td>0</td>\n",
       "      <td>0</td>\n",
       "      <td>0</td>\n",
       "      <td>0</td>\n",
       "      <td>1</td>\n",
       "      <td>3.0</td>\n",
       "      <td>7</td>\n",
       "      <td>3.5</td>\n",
       "    </tr>\n",
       "    <tr>\n",
       "      <th>4</th>\n",
       "      <td>55</td>\n",
       "      <td>48.0</td>\n",
       "      <td>1</td>\n",
       "      <td>0.76</td>\n",
       "      <td>1.0</td>\n",
       "      <td>4.0</td>\n",
       "      <td>1.0</td>\n",
       "      <td>1</td>\n",
       "      <td>1.0</td>\n",
       "      <td>0</td>\n",
       "      <td>0</td>\n",
       "      <td>0</td>\n",
       "      <td>0</td>\n",
       "      <td>1</td>\n",
       "      <td>5.0</td>\n",
       "      <td>7</td>\n",
       "      <td>3.5</td>\n",
       "    </tr>\n",
       "    <tr>\n",
       "      <th>...</th>\n",
       "      <td>...</td>\n",
       "      <td>...</td>\n",
       "      <td>...</td>\n",
       "      <td>...</td>\n",
       "      <td>...</td>\n",
       "      <td>...</td>\n",
       "      <td>...</td>\n",
       "      <td>...</td>\n",
       "      <td>...</td>\n",
       "      <td>...</td>\n",
       "      <td>...</td>\n",
       "      <td>...</td>\n",
       "      <td>...</td>\n",
       "      <td>...</td>\n",
       "      <td>...</td>\n",
       "      <td>...</td>\n",
       "      <td>...</td>\n",
       "    </tr>\n",
       "    <tr>\n",
       "      <th>22402</th>\n",
       "      <td>10695</td>\n",
       "      <td>26.5</td>\n",
       "      <td>1</td>\n",
       "      <td>-1.49</td>\n",
       "      <td>1.0</td>\n",
       "      <td>2.0</td>\n",
       "      <td>1.0</td>\n",
       "      <td>1</td>\n",
       "      <td>0.0</td>\n",
       "      <td>0</td>\n",
       "      <td>0</td>\n",
       "      <td>1</td>\n",
       "      <td>0</td>\n",
       "      <td>0</td>\n",
       "      <td>1.0</td>\n",
       "      <td>2</td>\n",
       "      <td>1.8</td>\n",
       "    </tr>\n",
       "    <tr>\n",
       "      <th>22403</th>\n",
       "      <td>19642</td>\n",
       "      <td>19.7</td>\n",
       "      <td>1</td>\n",
       "      <td>-1.36</td>\n",
       "      <td>1.0</td>\n",
       "      <td>3.0</td>\n",
       "      <td>1.0</td>\n",
       "      <td>1</td>\n",
       "      <td>0.0</td>\n",
       "      <td>0</td>\n",
       "      <td>0</td>\n",
       "      <td>1</td>\n",
       "      <td>0</td>\n",
       "      <td>0</td>\n",
       "      <td>1.0</td>\n",
       "      <td>1</td>\n",
       "      <td>1.8</td>\n",
       "    </tr>\n",
       "    <tr>\n",
       "      <th>22404</th>\n",
       "      <td>24704</td>\n",
       "      <td>36.0</td>\n",
       "      <td>1</td>\n",
       "      <td>0.80</td>\n",
       "      <td>2.0</td>\n",
       "      <td>3.0</td>\n",
       "      <td>1.0</td>\n",
       "      <td>1</td>\n",
       "      <td>0.0</td>\n",
       "      <td>0</td>\n",
       "      <td>0</td>\n",
       "      <td>1</td>\n",
       "      <td>0</td>\n",
       "      <td>1</td>\n",
       "      <td>3.0</td>\n",
       "      <td>5</td>\n",
       "      <td>1.8</td>\n",
       "    </tr>\n",
       "    <tr>\n",
       "      <th>22405</th>\n",
       "      <td>10000</td>\n",
       "      <td>44.0</td>\n",
       "      <td>1</td>\n",
       "      <td>1.42</td>\n",
       "      <td>2.0</td>\n",
       "      <td>3.0</td>\n",
       "      <td>1.0</td>\n",
       "      <td>1</td>\n",
       "      <td>1.0</td>\n",
       "      <td>0</td>\n",
       "      <td>0</td>\n",
       "      <td>0</td>\n",
       "      <td>0</td>\n",
       "      <td>1</td>\n",
       "      <td>3.0</td>\n",
       "      <td>6</td>\n",
       "      <td>1.5</td>\n",
       "    </tr>\n",
       "    <tr>\n",
       "      <th>22406</th>\n",
       "      <td>10684</td>\n",
       "      <td>29.5</td>\n",
       "      <td>1</td>\n",
       "      <td>0.81</td>\n",
       "      <td>1.0</td>\n",
       "      <td>3.0</td>\n",
       "      <td>1.0</td>\n",
       "      <td>1</td>\n",
       "      <td>1.0</td>\n",
       "      <td>0</td>\n",
       "      <td>0</td>\n",
       "      <td>0</td>\n",
       "      <td>0</td>\n",
       "      <td>1</td>\n",
       "      <td>1.0</td>\n",
       "      <td>3</td>\n",
       "      <td>1.6</td>\n",
       "    </tr>\n",
       "  </tbody>\n",
       "</table>\n",
       "<p>22407 rows × 17 columns</p>\n",
       "</div>"
      ],
      "text/plain": [
       "          ID  lsat  grad  zgpa  fulltime  fam_inc  male  Dropout  white  \\\n",
       "0          2  44.0     1  1.88       1.0      5.0   0.0        1    1.0   \n",
       "1          3  29.0     1 -0.57       1.0      4.0   0.0        1    1.0   \n",
       "2         36  36.0     1 -1.12       1.0      1.0   1.0        1    1.0   \n",
       "3         52  39.0     1 -0.49       1.0      4.0   1.0        1    1.0   \n",
       "4         55  48.0     1  0.76       1.0      4.0   1.0        1    1.0   \n",
       "...      ...   ...   ...   ...       ...      ...   ...      ...    ...   \n",
       "22402  10695  26.5     1 -1.49       1.0      2.0   1.0        1    0.0   \n",
       "22403  19642  19.7     1 -1.36       1.0      3.0   1.0        1    0.0   \n",
       "22404  24704  36.0     1  0.80       2.0      3.0   1.0        1    0.0   \n",
       "22405  10000  44.0     1  1.42       2.0      3.0   1.0        1    1.0   \n",
       "22406  10684  29.5     1  0.81       1.0      3.0   1.0        1    1.0   \n",
       "\n",
       "       other  asian  black  hisp  pass_bar  tier  indxgrp  gpa  \n",
       "0          0      0      0     0         1   4.0        7  3.5  \n",
       "1          0      0      0     0         1   2.0        6  3.5  \n",
       "2          0      0      0     0         1   3.0        7  3.5  \n",
       "3          0      0      0     0         1   3.0        7  3.5  \n",
       "4          0      0      0     0         1   5.0        7  3.5  \n",
       "...      ...    ...    ...   ...       ...   ...      ...  ...  \n",
       "22402      0      0      1     0         0   1.0        2  1.8  \n",
       "22403      0      0      1     0         0   1.0        1  1.8  \n",
       "22404      0      0      1     0         1   3.0        5  1.8  \n",
       "22405      0      0      0     0         1   3.0        6  1.5  \n",
       "22406      0      0      0     0         1   1.0        3  1.6  \n",
       "\n",
       "[22407 rows x 17 columns]"
      ]
     },
     "execution_count": 3,
     "metadata": {},
     "output_type": "execute_result"
    }
   ],
   "source": [
    "dataframe_procesada"
   ]
  },
  {
   "cell_type": "markdown",
   "metadata": {},
   "source": [
    "Vamos a usar diferentes versiones del mismo dataframe para ver si la raza y el género vuelve sesgado al modelo o no. Tambien vamos a quitar la columna dnn_bar_pass_prediction, porque sería trabajar con las predicciones de otro modelo o persona.\n",
    "\n",
    "Aparte tambien debemos observar si el target nos va a servir para un modelo de clasificación (parece que no)."
   ]
  },
  {
   "cell_type": "code",
   "execution_count": 4,
   "metadata": {},
   "outputs": [
    {
     "data": {
      "text/plain": [
       "pass_bar\n",
       "1    21238\n",
       "0     1169\n",
       "Name: count, dtype: int64"
      ]
     },
     "execution_count": 4,
     "metadata": {},
     "output_type": "execute_result"
    }
   ],
   "source": [
    "dataframe_procesada[\"pass_bar\"].value_counts()"
   ]
  },
  {
   "cell_type": "code",
   "execution_count": 5,
   "metadata": {},
   "outputs": [
    {
     "data": {
      "text/plain": [
       "([<matplotlib.patches.Wedge at 0x27e0e1677f0>,\n",
       "  <matplotlib.patches.Wedge at 0x27e0e09fd30>],\n",
       " [Text(-1.085258177997758, 0.1794845037572519, 'Aprobado'),\n",
       "  Text(1.085258192701737, -0.1794844148491985, 'Supenso')],\n",
       " [Text(-0.5919590061805952, 0.09790063841304647, '94.8%'),\n",
       "  Text(0.5919590142009474, -0.09790058991774463, '5.2%')])"
      ]
     },
     "execution_count": 5,
     "metadata": {},
     "output_type": "execute_result"
    },
    {
     "data": {
      "image/png": "[encoded data removed]",
      "text/plain": [
       "<Figure size 640x480 with 1 Axes>"
      ]
     },
     "metadata": {},
     "output_type": "display_data"
    }
   ],
   "source": [
    "plt.subplot()\n",
    "plt.pie(dataframe_procesada[\"pass_bar\"].value_counts(),labels=[\"Aprobado\",\"Supenso\"], autopct='%1.1f%%')"
   ]
  },
  {
   "cell_type": "markdown",
   "metadata": {},
   "source": [
    "Intentemos usar primero arboles de decisión para ver si sacamos algo en claro sobre la importancia de cada feature, antes de usar tecnicas de over sampling. Otra posibilidad es usar el hiperparametro class weights en otros modelos y a ver a que nos lleva."
   ]
  },
  {
   "cell_type": "code",
   "execution_count": 41,
   "metadata": {},
   "outputs": [],
   "source": [
    "from sklearn.model_selection import train_test_split\n",
    "seed=22\n",
    "\n",
    "X_train_ryg, X_test_ryg, y_train_ryg, y_test_ryg = train_test_split(dataframe_procesada.drop(['pass_bar'], axis=1),\n",
    "                                                    dataframe_procesada['pass_bar'],\n",
    "                                                    test_size=0.25,\n",
    "                                                    random_state=seed)"
   ]
  },
  {
   "cell_type": "markdown",
   "metadata": {},
   "source": [
    "Vamos a guardar estos datos:"
   ]
  },
  {
   "cell_type": "code",
   "execution_count": 10,
   "metadata": {},
   "outputs": [],
   "source": [
    "X_train_ryg.to_csv(\"../data/train/datos_procesados_Xtrain_ryg.csv\",index=False)\n",
    "X_test_ryg.to_csv(\"../data/test/datos_procesados_Xtest_ryg.csv\",index=False)\n",
    "y_train_ryg.to_csv(\"../data/train/datos_procesados_ytrain_ryg.csv\",index=False)\n",
    "y_test_ryg.to_csv(\"../data/test/datos_procesados_ytest_ryg.csv\",index=False)"
   ]
  },
  {
   "cell_type": "markdown",
   "metadata": {},
   "source": [
    "(Esto va a contar como un modelo, a pesar de que solo lo haga para ver a que features le da más importancia para clasificar)"
   ]
  },
  {
   "cell_type": "markdown",
   "metadata": {},
   "source": [
    "1. Modelo Decision Tree\n",
    "\n",
    "Vamos a usar el score como una medida aproximada de si funciona bien o mal. Veremos más metricas más adelante"
   ]
  },
  {
   "cell_type": "code",
   "execution_count": 7,
   "metadata": {},
   "outputs": [],
   "source": [
    "from sklearn.tree import DecisionTreeClassifier\n",
    "from sklearn.model_selection import GridSearchCV\n",
    "\n",
    "tree_clf_param={\"random_state\":[seed],\n",
    "                \"max_depth\":[1,2,3],\n",
    "                \"criterion\":[\"gini\", \"entropy\", \"log_loss\"],\n",
    "                \"splitter\":[\"best\",\"random\"],\n",
    "                \"min_samples_split\":[2,3,5,8,10],\n",
    "                \"min_samples_leaf\":[1,2,3,5,8,10],\n",
    "                \"min_weight_fraction_leaf\":[0.0,0.25,0.5],\n",
    "                \"class_weight\":[None,\"balanced\"],\n",
    "                \"ccp_alpha\":[0.0,0.25,0.5]}\n",
    "\n",
    "tree_clf_puro = DecisionTreeClassifier()\n",
    "tree_clf_puro=GridSearchCV(tree_clf_puro,tree_clf_param,refit=True)"
   ]
  },
  {
   "cell_type": "code",
   "execution_count": null,
   "metadata": {},
   "outputs": [],
   "source": [
    "tree_clf_puro.fit(X_train_ryg, y_train_ryg)\n",
    "tree_clf=tree_clf_puro.best_estimator_\n",
    "print(tree_clf.score(X_train_ryg,y_train_ryg))\n",
    "print(tree_clf.score(X_test_ryg,y_test_ryg))"
   ]
  },
  {
   "cell_type": "code",
   "execution_count": 15,
   "metadata": {},
   "outputs": [
    {
     "data": {
      "text/plain": [
       "{'ccp_alpha': 0.0,\n",
       " 'class_weight': None,\n",
       " 'criterion': 'gini',\n",
       " 'max_depth': 3,\n",
       " 'max_features': None,\n",
       " 'max_leaf_nodes': None,\n",
       " 'min_impurity_decrease': 0.0,\n",
       " 'min_samples_leaf': 1,\n",
       " 'min_samples_split': 2,\n",
       " 'min_weight_fraction_leaf': 0.0,\n",
       " 'monotonic_cst': None,\n",
       " 'random_state': 22,\n",
       " 'splitter': 'best'}"
      ]
     },
     "execution_count": 15,
     "metadata": {},
     "output_type": "execute_result"
    }
   ],
   "source": [
    "tree_clf_puro.get_params()"
   ]
  },
  {
   "cell_type": "markdown",
   "metadata": {},
   "source": [
    "Vemos que hay una importancia muy grande en las features lsat y lgpa."
   ]
  },
  {
   "cell_type": "code",
   "execution_count": 27,
   "metadata": {},
   "outputs": [
    {
     "name": "stdout",
     "output_type": "stream",
     "text": [
      "3\n"
     ]
    },
    {
     "data": {
      "image/png": "[encoded data removed]",
      "text/plain": [
       "<Figure size 1000x1000 with 1 Axes>"
      ]
     },
     "metadata": {},
     "output_type": "display_data"
    }
   ],
   "source": [
    "from sklearn.tree import plot_tree\n",
    "print(tree_clf.get_depth())\n",
    "plt.figure(figsize=(10,10))\n",
    "\n",
    "plot_tree(tree_clf,\n",
    "               feature_names=X_train_ryg.columns,\n",
    "               filled = True);"
   ]
  },
  {
   "cell_type": "markdown",
   "metadata": {},
   "source": [
    "La importancia de cada feature nos muestra que las dos principales razas (en términos númericos), blanca y negra, están entre las cinco features con mayor importancia según el score. "
   ]
  },
  {
   "cell_type": "code",
   "execution_count": 9,
   "metadata": {},
   "outputs": [
    {
     "data": {
      "text/plain": [
       "Index(['ID', 'lsat', 'grad', 'zgpa', 'fulltime', 'fam_inc', 'male', 'Dropout',\n",
       "       'white', 'other', 'asian', 'black', 'hisp', 'pass_bar', 'tier',\n",
       "       'indxgrp', 'gpa'],\n",
       "      dtype='object')"
      ]
     },
     "execution_count": 9,
     "metadata": {},
     "output_type": "execute_result"
    }
   ],
   "source": [
    "dataframe_procesada.columns"
   ]
  },
  {
   "cell_type": "code",
   "execution_count": 10,
   "metadata": {},
   "outputs": [
    {
     "name": "stdout",
     "output_type": "stream",
     "text": [
      "(22407, 10)\n",
      "[1.49661347e-01 1.35067594e+03 8.57954636e+01 1.77603429e+03\n",
      " 9.96478530e+01 1.44286510e+02 1.11337453e+01 5.50405085e-02\n",
      " 8.17989653e+02 2.16808103e+01 1.26492190e+01 8.64216891e+02\n",
      " 3.54340564e+01 2.15967761e+02 2.07060681e+03 4.69571550e+02]\n"
     ]
    },
    {
     "data": {
      "text/html": [
       "<div>\n",
       "<style scoped>\n",
       "    .dataframe tbody tr th:only-of-type {\n",
       "        vertical-align: middle;\n",
       "    }\n",
       "\n",
       "    .dataframe tbody tr th {\n",
       "        vertical-align: top;\n",
       "    }\n",
       "\n",
       "    .dataframe thead th {\n",
       "        text-align: right;\n",
       "    }\n",
       "</style>\n",
       "<table border=\"1\" class=\"dataframe\">\n",
       "  <thead>\n",
       "    <tr style=\"text-align: right;\">\n",
       "      <th></th>\n",
       "      <th>column</th>\n",
       "      <th>score</th>\n",
       "    </tr>\n",
       "  </thead>\n",
       "  <tbody>\n",
       "    <tr>\n",
       "      <th>14</th>\n",
       "      <td>indxgrp</td>\n",
       "      <td>2070.606810</td>\n",
       "    </tr>\n",
       "    <tr>\n",
       "      <th>3</th>\n",
       "      <td>zgpa</td>\n",
       "      <td>1776.034289</td>\n",
       "    </tr>\n",
       "    <tr>\n",
       "      <th>1</th>\n",
       "      <td>lsat</td>\n",
       "      <td>1350.675937</td>\n",
       "    </tr>\n",
       "    <tr>\n",
       "      <th>11</th>\n",
       "      <td>black</td>\n",
       "      <td>864.216891</td>\n",
       "    </tr>\n",
       "    <tr>\n",
       "      <th>8</th>\n",
       "      <td>white</td>\n",
       "      <td>817.989653</td>\n",
       "    </tr>\n",
       "    <tr>\n",
       "      <th>15</th>\n",
       "      <td>gpa</td>\n",
       "      <td>469.571550</td>\n",
       "    </tr>\n",
       "    <tr>\n",
       "      <th>13</th>\n",
       "      <td>tier</td>\n",
       "      <td>215.967761</td>\n",
       "    </tr>\n",
       "    <tr>\n",
       "      <th>5</th>\n",
       "      <td>fam_inc</td>\n",
       "      <td>144.286510</td>\n",
       "    </tr>\n",
       "    <tr>\n",
       "      <th>4</th>\n",
       "      <td>fulltime</td>\n",
       "      <td>99.647853</td>\n",
       "    </tr>\n",
       "    <tr>\n",
       "      <th>2</th>\n",
       "      <td>grad</td>\n",
       "      <td>85.795464</td>\n",
       "    </tr>\n",
       "    <tr>\n",
       "      <th>12</th>\n",
       "      <td>hisp</td>\n",
       "      <td>35.434056</td>\n",
       "    </tr>\n",
       "    <tr>\n",
       "      <th>9</th>\n",
       "      <td>other</td>\n",
       "      <td>21.680810</td>\n",
       "    </tr>\n",
       "    <tr>\n",
       "      <th>10</th>\n",
       "      <td>asian</td>\n",
       "      <td>12.649219</td>\n",
       "    </tr>\n",
       "    <tr>\n",
       "      <th>6</th>\n",
       "      <td>male</td>\n",
       "      <td>11.133745</td>\n",
       "    </tr>\n",
       "    <tr>\n",
       "      <th>0</th>\n",
       "      <td>ID</td>\n",
       "      <td>0.149661</td>\n",
       "    </tr>\n",
       "    <tr>\n",
       "      <th>7</th>\n",
       "      <td>Dropout</td>\n",
       "      <td>0.055041</td>\n",
       "    </tr>\n",
       "  </tbody>\n",
       "</table>\n",
       "</div>"
      ],
      "text/plain": [
       "      column        score\n",
       "14   indxgrp  2070.606810\n",
       "3       zgpa  1776.034289\n",
       "1       lsat  1350.675937\n",
       "11     black   864.216891\n",
       "8      white   817.989653\n",
       "15       gpa   469.571550\n",
       "13      tier   215.967761\n",
       "5    fam_inc   144.286510\n",
       "4   fulltime    99.647853\n",
       "2       grad    85.795464\n",
       "12      hisp    35.434056\n",
       "9      other    21.680810\n",
       "10     asian    12.649219\n",
       "6       male    11.133745\n",
       "0         ID     0.149661\n",
       "7    Dropout     0.055041"
      ]
     },
     "execution_count": 10,
     "metadata": {},
     "output_type": "execute_result"
    }
   ],
   "source": [
    "from sklearn.feature_selection import SelectKBest\n",
    "\n",
    "sel = SelectKBest(k=10)\n",
    "X_new = sel.fit_transform(dataframe_procesada.drop([\"pass_bar\"],axis=1), dataframe_procesada[\"pass_bar\"])\n",
    "print(X_new.shape)\n",
    "print(sel.scores_)\n",
    "\n",
    "pd.DataFrame({'column': ['ID', 'lsat', 'grad', 'zgpa', 'fulltime', 'fam_inc', 'male',\n",
    "       'Dropout', 'white', 'other', 'asian', 'black', 'hisp',\n",
    "       'tier', 'indxgrp', 'gpa'], 'score': sel.scores_}).sort_values('score', ascending=False)"
   ]
  },
  {
   "cell_type": "markdown",
   "metadata": {},
   "source": [
    "Las mismas features pero su importancia según el modelo de tree_clf. Aquí vemos que las features más relevantes fueron las mismas que vimos antes (zgpa y lsat), siendo las demás ignoradas. Parece que usando este tipo de modelo podrías deshacernos de las features controversiales de raza y género sin perder mucho."
   ]
  },
  {
   "cell_type": "code",
   "execution_count": 208,
   "metadata": {},
   "outputs": [
    {
     "data": {
      "text/html": [
       "<div>\n",
       "<style scoped>\n",
       "    .dataframe tbody tr th:only-of-type {\n",
       "        vertical-align: middle;\n",
       "    }\n",
       "\n",
       "    .dataframe tbody tr th {\n",
       "        vertical-align: top;\n",
       "    }\n",
       "\n",
       "    .dataframe thead th {\n",
       "        text-align: right;\n",
       "    }\n",
       "</style>\n",
       "<table border=\"1\" class=\"dataframe\">\n",
       "  <thead>\n",
       "    <tr style=\"text-align: right;\">\n",
       "      <th></th>\n",
       "      <th>Score</th>\n",
       "      <th>Feature</th>\n",
       "    </tr>\n",
       "  </thead>\n",
       "  <tbody>\n",
       "    <tr>\n",
       "      <th>0</th>\n",
       "      <td>0.6956</td>\n",
       "      <td>zgpa</td>\n",
       "    </tr>\n",
       "    <tr>\n",
       "      <th>1</th>\n",
       "      <td>0.3044</td>\n",
       "      <td>lsat</td>\n",
       "    </tr>\n",
       "    <tr>\n",
       "      <th>2</th>\n",
       "      <td>0.0000</td>\n",
       "      <td>white</td>\n",
       "    </tr>\n",
       "    <tr>\n",
       "      <th>3</th>\n",
       "      <td>0.0000</td>\n",
       "      <td>tier</td>\n",
       "    </tr>\n",
       "    <tr>\n",
       "      <th>4</th>\n",
       "      <td>0.0000</td>\n",
       "      <td>other</td>\n",
       "    </tr>\n",
       "    <tr>\n",
       "      <th>5</th>\n",
       "      <td>0.0000</td>\n",
       "      <td>male</td>\n",
       "    </tr>\n",
       "    <tr>\n",
       "      <th>6</th>\n",
       "      <td>0.0000</td>\n",
       "      <td>indxgrp</td>\n",
       "    </tr>\n",
       "    <tr>\n",
       "      <th>7</th>\n",
       "      <td>0.0000</td>\n",
       "      <td>hisp</td>\n",
       "    </tr>\n",
       "    <tr>\n",
       "      <th>8</th>\n",
       "      <td>0.0000</td>\n",
       "      <td>grad</td>\n",
       "    </tr>\n",
       "    <tr>\n",
       "      <th>9</th>\n",
       "      <td>0.0000</td>\n",
       "      <td>gpa</td>\n",
       "    </tr>\n",
       "    <tr>\n",
       "      <th>10</th>\n",
       "      <td>0.0000</td>\n",
       "      <td>fulltime</td>\n",
       "    </tr>\n",
       "    <tr>\n",
       "      <th>11</th>\n",
       "      <td>0.0000</td>\n",
       "      <td>fam_inc</td>\n",
       "    </tr>\n",
       "    <tr>\n",
       "      <th>12</th>\n",
       "      <td>0.0000</td>\n",
       "      <td>black</td>\n",
       "    </tr>\n",
       "    <tr>\n",
       "      <th>13</th>\n",
       "      <td>0.0000</td>\n",
       "      <td>asian</td>\n",
       "    </tr>\n",
       "    <tr>\n",
       "      <th>14</th>\n",
       "      <td>0.0000</td>\n",
       "      <td>ID</td>\n",
       "    </tr>\n",
       "    <tr>\n",
       "      <th>15</th>\n",
       "      <td>0.0000</td>\n",
       "      <td>Dropout</td>\n",
       "    </tr>\n",
       "  </tbody>\n",
       "</table>\n",
       "</div>"
      ],
      "text/plain": [
       "     Score   Feature\n",
       "0   0.6956      zgpa\n",
       "1   0.3044      lsat\n",
       "2   0.0000     white\n",
       "3   0.0000      tier\n",
       "4   0.0000     other\n",
       "5   0.0000      male\n",
       "6   0.0000   indxgrp\n",
       "7   0.0000      hisp\n",
       "8   0.0000      grad\n",
       "9   0.0000       gpa\n",
       "10  0.0000  fulltime\n",
       "11  0.0000   fam_inc\n",
       "12  0.0000     black\n",
       "13  0.0000     asian\n",
       "14  0.0000        ID\n",
       "15  0.0000   Dropout"
      ]
     },
     "execution_count": 208,
     "metadata": {},
     "output_type": "execute_result"
    }
   ],
   "source": [
    "scores = sorted(zip(map(lambda x: round(x, 4), tree_clf.feature_importances_), X_test_ryg.columns), reverse=True)\n",
    "pd.DataFrame(scores, columns=['Score', 'Feature'])"
   ]
  },
  {
   "cell_type": "markdown",
   "metadata": {},
   "source": [
    "Oversampling"
   ]
  },
  {
   "cell_type": "code",
   "execution_count": 43,
   "metadata": {},
   "outputs": [],
   "source": [
    "from imblearn.over_sampling import RandomOverSampler\n",
    "\n",
    "ros = RandomOverSampler(random_state=seed)\n",
    "X_ros, y_ros = ros.fit_resample(dataframe_procesada.drop([\"pass_bar\"],axis=1), dataframe_procesada['pass_bar'])"
   ]
  },
  {
   "cell_type": "code",
   "execution_count": 12,
   "metadata": {},
   "outputs": [
    {
     "data": {
      "image/png": "[encoded data removed]",
      "text/plain": [
       "<Figure size 1000x500 with 1 Axes>"
      ]
     },
     "metadata": {},
     "output_type": "display_data"
    }
   ],
   "source": [
    "import matplotlib.pyplot as plt\n",
    "import seaborn as sns\n",
    "\n",
    "fig, axes = plt.subplots(figsize=(10, 5), sharey=True)\n",
    "\n",
    "sns.countplot(x=y_ros, ax=axes, hue=y_ros)\n",
    "axes.set_title(\"RandomOverSampler\");"
   ]
  },
  {
   "cell_type": "markdown",
   "metadata": {},
   "source": [
    "Vemos que los datos, los cuales solo los vamos a usar para entrenar el modelo, ahora son más \"balanceados\"."
   ]
  },
  {
   "cell_type": "code",
   "execution_count": 9,
   "metadata": {},
   "outputs": [
    {
     "data": {
      "text/html": [
       "<div>\n",
       "<style scoped>\n",
       "    .dataframe tbody tr th:only-of-type {\n",
       "        vertical-align: middle;\n",
       "    }\n",
       "\n",
       "    .dataframe tbody tr th {\n",
       "        vertical-align: top;\n",
       "    }\n",
       "\n",
       "    .dataframe thead th {\n",
       "        text-align: right;\n",
       "    }\n",
       "</style>\n",
       "<table border=\"1\" class=\"dataframe\">\n",
       "  <thead>\n",
       "    <tr style=\"text-align: right;\">\n",
       "      <th></th>\n",
       "      <th>ID</th>\n",
       "      <th>lsat</th>\n",
       "      <th>grad</th>\n",
       "      <th>zgpa</th>\n",
       "      <th>fulltime</th>\n",
       "      <th>fam_inc</th>\n",
       "      <th>male</th>\n",
       "      <th>Dropout</th>\n",
       "      <th>white</th>\n",
       "      <th>other</th>\n",
       "      <th>asian</th>\n",
       "      <th>black</th>\n",
       "      <th>hisp</th>\n",
       "      <th>tier</th>\n",
       "      <th>indxgrp</th>\n",
       "      <th>gpa</th>\n",
       "    </tr>\n",
       "  </thead>\n",
       "  <tbody>\n",
       "    <tr>\n",
       "      <th>0</th>\n",
       "      <td>2</td>\n",
       "      <td>44.0</td>\n",
       "      <td>1</td>\n",
       "      <td>1.88</td>\n",
       "      <td>1.0</td>\n",
       "      <td>5.0</td>\n",
       "      <td>0.0</td>\n",
       "      <td>1</td>\n",
       "      <td>1.0</td>\n",
       "      <td>0</td>\n",
       "      <td>0</td>\n",
       "      <td>0</td>\n",
       "      <td>0</td>\n",
       "      <td>4.0</td>\n",
       "      <td>7</td>\n",
       "      <td>3.5</td>\n",
       "    </tr>\n",
       "    <tr>\n",
       "      <th>1</th>\n",
       "      <td>3</td>\n",
       "      <td>29.0</td>\n",
       "      <td>1</td>\n",
       "      <td>-0.57</td>\n",
       "      <td>1.0</td>\n",
       "      <td>4.0</td>\n",
       "      <td>0.0</td>\n",
       "      <td>1</td>\n",
       "      <td>1.0</td>\n",
       "      <td>0</td>\n",
       "      <td>0</td>\n",
       "      <td>0</td>\n",
       "      <td>0</td>\n",
       "      <td>2.0</td>\n",
       "      <td>6</td>\n",
       "      <td>3.5</td>\n",
       "    </tr>\n",
       "    <tr>\n",
       "      <th>2</th>\n",
       "      <td>36</td>\n",
       "      <td>36.0</td>\n",
       "      <td>1</td>\n",
       "      <td>-1.12</td>\n",
       "      <td>1.0</td>\n",
       "      <td>1.0</td>\n",
       "      <td>1.0</td>\n",
       "      <td>1</td>\n",
       "      <td>1.0</td>\n",
       "      <td>0</td>\n",
       "      <td>0</td>\n",
       "      <td>0</td>\n",
       "      <td>0</td>\n",
       "      <td>3.0</td>\n",
       "      <td>7</td>\n",
       "      <td>3.5</td>\n",
       "    </tr>\n",
       "    <tr>\n",
       "      <th>3</th>\n",
       "      <td>52</td>\n",
       "      <td>39.0</td>\n",
       "      <td>1</td>\n",
       "      <td>-0.49</td>\n",
       "      <td>1.0</td>\n",
       "      <td>4.0</td>\n",
       "      <td>1.0</td>\n",
       "      <td>1</td>\n",
       "      <td>1.0</td>\n",
       "      <td>0</td>\n",
       "      <td>0</td>\n",
       "      <td>0</td>\n",
       "      <td>0</td>\n",
       "      <td>3.0</td>\n",
       "      <td>7</td>\n",
       "      <td>3.5</td>\n",
       "    </tr>\n",
       "    <tr>\n",
       "      <th>4</th>\n",
       "      <td>55</td>\n",
       "      <td>48.0</td>\n",
       "      <td>1</td>\n",
       "      <td>0.76</td>\n",
       "      <td>1.0</td>\n",
       "      <td>4.0</td>\n",
       "      <td>1.0</td>\n",
       "      <td>1</td>\n",
       "      <td>1.0</td>\n",
       "      <td>0</td>\n",
       "      <td>0</td>\n",
       "      <td>0</td>\n",
       "      <td>0</td>\n",
       "      <td>5.0</td>\n",
       "      <td>7</td>\n",
       "      <td>3.5</td>\n",
       "    </tr>\n",
       "    <tr>\n",
       "      <th>...</th>\n",
       "      <td>...</td>\n",
       "      <td>...</td>\n",
       "      <td>...</td>\n",
       "      <td>...</td>\n",
       "      <td>...</td>\n",
       "      <td>...</td>\n",
       "      <td>...</td>\n",
       "      <td>...</td>\n",
       "      <td>...</td>\n",
       "      <td>...</td>\n",
       "      <td>...</td>\n",
       "      <td>...</td>\n",
       "      <td>...</td>\n",
       "      <td>...</td>\n",
       "      <td>...</td>\n",
       "      <td>...</td>\n",
       "    </tr>\n",
       "    <tr>\n",
       "      <th>42471</th>\n",
       "      <td>4859</td>\n",
       "      <td>28.0</td>\n",
       "      <td>1</td>\n",
       "      <td>0.46</td>\n",
       "      <td>1.0</td>\n",
       "      <td>3.0</td>\n",
       "      <td>0.0</td>\n",
       "      <td>1</td>\n",
       "      <td>1.0</td>\n",
       "      <td>0</td>\n",
       "      <td>0</td>\n",
       "      <td>0</td>\n",
       "      <td>0</td>\n",
       "      <td>1.0</td>\n",
       "      <td>5</td>\n",
       "      <td>3.4</td>\n",
       "    </tr>\n",
       "    <tr>\n",
       "      <th>42472</th>\n",
       "      <td>6877</td>\n",
       "      <td>35.0</td>\n",
       "      <td>1</td>\n",
       "      <td>-0.87</td>\n",
       "      <td>1.0</td>\n",
       "      <td>4.0</td>\n",
       "      <td>0.0</td>\n",
       "      <td>1</td>\n",
       "      <td>1.0</td>\n",
       "      <td>0</td>\n",
       "      <td>0</td>\n",
       "      <td>0</td>\n",
       "      <td>0</td>\n",
       "      <td>3.0</td>\n",
       "      <td>7</td>\n",
       "      <td>3.4</td>\n",
       "    </tr>\n",
       "    <tr>\n",
       "      <th>42473</th>\n",
       "      <td>16844</td>\n",
       "      <td>37.0</td>\n",
       "      <td>1</td>\n",
       "      <td>-1.68</td>\n",
       "      <td>1.0</td>\n",
       "      <td>4.0</td>\n",
       "      <td>1.0</td>\n",
       "      <td>1</td>\n",
       "      <td>1.0</td>\n",
       "      <td>0</td>\n",
       "      <td>0</td>\n",
       "      <td>0</td>\n",
       "      <td>0</td>\n",
       "      <td>2.0</td>\n",
       "      <td>5</td>\n",
       "      <td>2.0</td>\n",
       "    </tr>\n",
       "    <tr>\n",
       "      <th>42474</th>\n",
       "      <td>684</td>\n",
       "      <td>37.0</td>\n",
       "      <td>1</td>\n",
       "      <td>-2.11</td>\n",
       "      <td>1.0</td>\n",
       "      <td>3.0</td>\n",
       "      <td>0.0</td>\n",
       "      <td>1</td>\n",
       "      <td>1.0</td>\n",
       "      <td>0</td>\n",
       "      <td>0</td>\n",
       "      <td>0</td>\n",
       "      <td>0</td>\n",
       "      <td>3.0</td>\n",
       "      <td>7</td>\n",
       "      <td>3.8</td>\n",
       "    </tr>\n",
       "    <tr>\n",
       "      <th>42475</th>\n",
       "      <td>3276</td>\n",
       "      <td>30.5</td>\n",
       "      <td>1</td>\n",
       "      <td>-1.36</td>\n",
       "      <td>1.0</td>\n",
       "      <td>4.0</td>\n",
       "      <td>0.0</td>\n",
       "      <td>1</td>\n",
       "      <td>0.0</td>\n",
       "      <td>0</td>\n",
       "      <td>0</td>\n",
       "      <td>1</td>\n",
       "      <td>0</td>\n",
       "      <td>4.0</td>\n",
       "      <td>6</td>\n",
       "      <td>3.2</td>\n",
       "    </tr>\n",
       "  </tbody>\n",
       "</table>\n",
       "<p>42476 rows × 16 columns</p>\n",
       "</div>"
      ],
      "text/plain": [
       "          ID  lsat  grad  zgpa  fulltime  fam_inc  male  Dropout  white  \\\n",
       "0          2  44.0     1  1.88       1.0      5.0   0.0        1    1.0   \n",
       "1          3  29.0     1 -0.57       1.0      4.0   0.0        1    1.0   \n",
       "2         36  36.0     1 -1.12       1.0      1.0   1.0        1    1.0   \n",
       "3         52  39.0     1 -0.49       1.0      4.0   1.0        1    1.0   \n",
       "4         55  48.0     1  0.76       1.0      4.0   1.0        1    1.0   \n",
       "...      ...   ...   ...   ...       ...      ...   ...      ...    ...   \n",
       "42471   4859  28.0     1  0.46       1.0      3.0   0.0        1    1.0   \n",
       "42472   6877  35.0     1 -0.87       1.0      4.0   0.0        1    1.0   \n",
       "42473  16844  37.0     1 -1.68       1.0      4.0   1.0        1    1.0   \n",
       "42474    684  37.0     1 -2.11       1.0      3.0   0.0        1    1.0   \n",
       "42475   3276  30.5     1 -1.36       1.0      4.0   0.0        1    0.0   \n",
       "\n",
       "       other  asian  black  hisp  tier  indxgrp  gpa  \n",
       "0          0      0      0     0   4.0        7  3.5  \n",
       "1          0      0      0     0   2.0        6  3.5  \n",
       "2          0      0      0     0   3.0        7  3.5  \n",
       "3          0      0      0     0   3.0        7  3.5  \n",
       "4          0      0      0     0   5.0        7  3.5  \n",
       "...      ...    ...    ...   ...   ...      ...  ...  \n",
       "42471      0      0      0     0   1.0        5  3.4  \n",
       "42472      0      0      0     0   3.0        7  3.4  \n",
       "42473      0      0      0     0   2.0        5  2.0  \n",
       "42474      0      0      0     0   3.0        7  3.8  \n",
       "42475      0      0      1     0   4.0        6  3.2  \n",
       "\n",
       "[42476 rows x 16 columns]"
      ]
     },
     "execution_count": 9,
     "metadata": {},
     "output_type": "execute_result"
    }
   ],
   "source": [
    "X_ros"
   ]
  },
  {
   "cell_type": "code",
   "execution_count": 10,
   "metadata": {},
   "outputs": [
    {
     "data": {
      "text/plain": [
       "0        1\n",
       "1        1\n",
       "2        1\n",
       "3        1\n",
       "4        1\n",
       "        ..\n",
       "42471    0\n",
       "42472    0\n",
       "42473    0\n",
       "42474    0\n",
       "42475    0\n",
       "Name: pass_bar, Length: 42476, dtype: int64"
      ]
     },
     "execution_count": 10,
     "metadata": {},
     "output_type": "execute_result"
    }
   ],
   "source": [
    "y_ros"
   ]
  },
  {
   "cell_type": "code",
   "execution_count": 44,
   "metadata": {},
   "outputs": [],
   "source": [
    "from sklearn.model_selection import train_test_split\n",
    "seed=22\n",
    "\n",
    "X_train_ros, X_test_ros, y_train_ros, y_test_ros = train_test_split(X_ros,\n",
    "                                                    y_ros,\n",
    "                                                    test_size=0.25,\n",
    "                                                    random_state=seed)"
   ]
  },
  {
   "cell_type": "markdown",
   "metadata": {},
   "source": [
    "Vamos a guardar estos datos:"
   ]
  },
  {
   "cell_type": "code",
   "execution_count": 14,
   "metadata": {},
   "outputs": [],
   "source": [
    "X_train_ros.to_csv(\"../data/train/datos_procesados_Xtrain_ros.csv\",index=False)\n",
    "X_test_ros.to_csv(\"../data/test/datos_procesados_Xtest_ros.csv\",index=False)\n",
    "y_train_ros.to_csv(\"../data/train/datos_procesados_ytrain_ros.csv\",index=False)\n",
    "y_test_ros.to_csv(\"../data/test/datos_procesados_ytest_ros.csv\",index=False)"
   ]
  },
  {
   "cell_type": "markdown",
   "metadata": {},
   "source": [
    "Una vez tenemos datos con los que entrenar modelos, empecemos a probar con ellos. Necesitamos 4 supervisados y 1 no supervisado más."
   ]
  },
  {
   "cell_type": "markdown",
   "metadata": {},
   "source": [
    "2. Modelo de Random Forest (este tardara más)"
   ]
  },
  {
   "cell_type": "markdown",
   "metadata": {},
   "source": [
    "Hiperparametros del modelo de clasificación"
   ]
  },
  {
   "cell_type": "code",
   "execution_count": 67,
   "metadata": {},
   "outputs": [],
   "source": [
    "from sklearn.ensemble import RandomForestClassifier\n",
    "from sklearn.model_selection import GridSearchCV\n",
    "\n",
    "forest_clf_param={\"n_estimators\":[5,10,25],\n",
    "                \"random_state\":[seed],\n",
    "                \"max_depth\":[1,2,3],\n",
    "                \"criterion\":[\"gini\", \"entropy\", \"log_loss\"],\n",
    "                \"bootstrap\":[True,False],\n",
    "                \"min_samples_split\":[2,3,5],\n",
    "                \"min_samples_leaf\":[1,3,5],\n",
    "                \"min_weight_fraction_leaf\":[0.0,0.25],\n",
    "                \"class_weight\":[None,\"balanced\"],\n",
    "                \"ccp_alpha\":[0.0,0.25],\n",
    "                \"warm_start\":[True,False]}\n",
    "\n",
    "forest_clf_puro= RandomForestClassifier()\n",
    "forest_clf_puro=GridSearchCV(forest_clf_puro,forest_clf_param,refit=True)"
   ]
  },
  {
   "cell_type": "code",
   "execution_count": 67,
   "metadata": {},
   "outputs": [
    {
     "data": {
      "text/plain": [
       "{'bootstrap': True,\n",
       " 'ccp_alpha': 0.0,\n",
       " 'class_weight': None,\n",
       " 'criterion': 'entropy',\n",
       " 'max_depth': 3,\n",
       " 'max_features': 'sqrt',\n",
       " 'max_leaf_nodes': None,\n",
       " 'max_samples': None,\n",
       " 'min_impurity_decrease': 0.0,\n",
       " 'min_samples_leaf': 1,\n",
       " 'min_samples_split': 2,\n",
       " 'min_weight_fraction_leaf': 0.0,\n",
       " 'monotonic_cst': None,\n",
       " 'n_estimators': 5,\n",
       " 'n_jobs': None,\n",
       " 'oob_score': False,\n",
       " 'random_state': 22,\n",
       " 'verbose': 0,\n",
       " 'warm_start': False}"
      ]
     },
     "execution_count": 67,
     "metadata": {},
     "output_type": "execute_result"
    }
   ],
   "source": [
    "forest_clf_puro.get_params()"
   ]
  },
  {
   "cell_type": "code",
   "execution_count": 122,
   "metadata": {},
   "outputs": [
    {
     "name": "stdout",
     "output_type": "stream",
     "text": [
      "0.9475751264504612\n",
      "0.9503748661192432\n"
     ]
    }
   ],
   "source": [
    "forest_clf_puro.fit(X_train_ryg, y_train_ryg)\n",
    "forest_clf=forest_clf_puro.best_estimator_\n",
    "print(forest_clf.score(X_train_ryg,y_train_ryg))\n",
    "print(forest_clf.score(X_test_ryg,y_test_ryg))"
   ]
  },
  {
   "cell_type": "code",
   "execution_count": 79,
   "metadata": {},
   "outputs": [
    {
     "data": {
      "image/png": "[encoded data removed]",
      "text/plain": [
       "<Figure size 1000x500 with 5 Axes>"
      ]
     },
     "metadata": {},
     "output_type": "display_data"
    }
   ],
   "source": [
    "from sklearn.tree import plot_tree\n",
    "fig, axes = plt.subplots(nrows = 5,ncols = 1,figsize = (10,5))\n",
    "\n",
    "for i in range(0,5):\n",
    "    plot_tree(forest_clf[i],\n",
    "               feature_names=X_train_ryg.columns,\n",
    "               filled = True,\n",
    "               ax=axes[i]);\n",
    "    axes[i].set_title('Estimator: ' + str(i), fontsize = 5)"
   ]
  },
  {
   "cell_type": "markdown",
   "metadata": {},
   "source": [
    "3. Modelo Logistic Regression (vamos a usar los datos oversampleados para entrenar y los datos procesados para las mediciones)"
   ]
  },
  {
   "cell_type": "code",
   "execution_count": 68,
   "metadata": {},
   "outputs": [],
   "source": [
    "from sklearn.linear_model import LogisticRegression\n",
    "from sklearn.model_selection import GridSearchCV\n",
    "from warnings import simplefilter\n",
    "simplefilter(\"ignore\") #habia demasiadas warnings de funciones obsoletas en las proximas versiones\n",
    "reglog_clf_param={\"penalty\":[None,\"l1\", \"l2\", \"elasticnet\"],\n",
    "                \"random_state\":[seed],\n",
    "                \"dual\":[True,False],\n",
    "                \"tol\":[1e-4,1e-1],\n",
    "                \"C\":[0.1,1.0],\n",
    "                \"fit_intercept\":[True,False],\n",
    "                \"intercept_scaling\":[0.1,1.0],\n",
    "                \"solver\":[\"lbfgs\", \"liblinear\", \"newton-cg\", \"newton-cholesky\", \"sag\", \"saga\"],\n",
    "                \"max_iter\":[100],\n",
    "                \"multi_class\":[\"auto\", \"ovr\", \"multinomial\"],\n",
    "                \"l1_ratio\":[0.0,1.0],\n",
    "                \"verbose\":[0]}\n",
    "\n",
    "reglog_clf_puro = LogisticRegression()\n",
    "reglog_clf_puro=GridSearchCV(reglog_clf_puro,reglog_clf_param,refit=True)"
   ]
  },
  {
   "cell_type": "code",
   "execution_count": 120,
   "metadata": {},
   "outputs": [
    {
     "data": {
      "text/plain": [
       "{'C': 0.1,\n",
       " 'class_weight': None,\n",
       " 'dual': False,\n",
       " 'fit_intercept': False,\n",
       " 'intercept_scaling': 0.1,\n",
       " 'l1_ratio': 0.0,\n",
       " 'max_iter': 100,\n",
       " 'multi_class': 'auto',\n",
       " 'n_jobs': None,\n",
       " 'penalty': 'l2',\n",
       " 'random_state': 22,\n",
       " 'solver': 'newton-cg',\n",
       " 'tol': 0.0001,\n",
       " 'verbose': 0,\n",
       " 'warm_start': False}"
      ]
     },
     "execution_count": 120,
     "metadata": {},
     "output_type": "execute_result"
    }
   ],
   "source": [
    "reglog_clf_puro.get_params()"
   ]
  },
  {
   "cell_type": "code",
   "execution_count": 31,
   "metadata": {},
   "outputs": [
    {
     "name": "stderr",
     "output_type": "stream",
     "text": [
      "c:\\Users\\traba\\Desktop\\Competiciones Kaggle\\.conda\\lib\\site-packages\\sklearn\\linear_model\\_logistic.py:1197: UserWarning: l1_ratio parameter is only used when penalty is 'elasticnet'. Got (penalty=l2)\n",
      "  warnings.warn(\n",
      "c:\\Users\\traba\\Desktop\\Competiciones Kaggle\\.conda\\lib\\site-packages\\sklearn\\linear_model\\_logistic.py:1247: FutureWarning: 'multi_class' was deprecated in version 1.5 and will be removed in 1.7. From then on, it will always use 'multinomial'. Leave it to its default value to avoid this warning.\n",
      "  warnings.warn(\n",
      "c:\\Users\\traba\\Desktop\\Competiciones Kaggle\\.conda\\lib\\site-packages\\sklearn\\linear_model\\_logistic.py:1197: UserWarning: l1_ratio parameter is only used when penalty is 'elasticnet'. Got (penalty=l2)\n",
      "  warnings.warn(\n",
      "c:\\Users\\traba\\Desktop\\Competiciones Kaggle\\.conda\\lib\\site-packages\\sklearn\\linear_model\\_logistic.py:1247: FutureWarning: 'multi_class' was deprecated in version 1.5 and will be removed in 1.7. From then on, it will always use 'multinomial'. Leave it to its default value to avoid this warning.\n",
      "  warnings.warn(\n",
      "c:\\Users\\traba\\Desktop\\Competiciones Kaggle\\.conda\\lib\\site-packages\\sklearn\\linear_model\\_logistic.py:1197: UserWarning: l1_ratio parameter is only used when penalty is 'elasticnet'. Got (penalty=l2)\n",
      "  warnings.warn(\n",
      "c:\\Users\\traba\\Desktop\\Competiciones Kaggle\\.conda\\lib\\site-packages\\sklearn\\linear_model\\_logistic.py:1247: FutureWarning: 'multi_class' was deprecated in version 1.5 and will be removed in 1.7. From then on, it will always use 'multinomial'. Leave it to its default value to avoid this warning.\n",
      "  warnings.warn(\n",
      "c:\\Users\\traba\\Desktop\\Competiciones Kaggle\\.conda\\lib\\site-packages\\sklearn\\linear_model\\_logistic.py:1197: UserWarning: l1_ratio parameter is only used when penalty is 'elasticnet'. Got (penalty=l2)\n",
      "  warnings.warn(\n",
      "c:\\Users\\traba\\Desktop\\Competiciones Kaggle\\.conda\\lib\\site-packages\\sklearn\\linear_model\\_logistic.py:1247: FutureWarning: 'multi_class' was deprecated in version 1.5 and will be removed in 1.7. From then on, it will always use 'multinomial'. Leave it to its default value to avoid this warning.\n",
      "  warnings.warn(\n",
      "c:\\Users\\traba\\Desktop\\Competiciones Kaggle\\.conda\\lib\\site-packages\\sklearn\\linear_model\\_logistic.py:1197: UserWarning: l1_ratio parameter is only used when penalty is 'elasticnet'. Got (penalty=l2)\n",
      "  warnings.warn(\n",
      "c:\\Users\\traba\\Desktop\\Competiciones Kaggle\\.conda\\lib\\site-packages\\sklearn\\linear_model\\_logistic.py:1247: FutureWarning: 'multi_class' was deprecated in version 1.5 and will be removed in 1.7. From then on, it will always use 'multinomial'. Leave it to its default value to avoid this warning.\n",
      "  warnings.warn(\n",
      "c:\\Users\\traba\\Desktop\\Competiciones Kaggle\\.conda\\lib\\site-packages\\sklearn\\linear_model\\_logistic.py:1197: UserWarning: l1_ratio parameter is only used when penalty is 'elasticnet'. Got (penalty=l2)\n",
      "  warnings.warn(\n",
      "c:\\Users\\traba\\Desktop\\Competiciones Kaggle\\.conda\\lib\\site-packages\\sklearn\\linear_model\\_logistic.py:1247: FutureWarning: 'multi_class' was deprecated in version 1.5 and will be removed in 1.7. From then on, it will always use 'multinomial'. Leave it to its default value to avoid this warning.\n",
      "  warnings.warn(\n"
     ]
    },
    {
     "name": "stdout",
     "output_type": "stream",
     "text": [
      "0.7969676994067239\n",
      "0.7870403427347376\n"
     ]
    }
   ],
   "source": [
    "reglog_clf_puro.fit(X_train_ros,y_train_ros)\n",
    "reglog_clf=reglog_clf_puro.best_estimator_\n",
    "print(reglog_clf.score(X_test_ros,y_test_ros))\n",
    "print(reglog_clf.score(X_test_ryg,y_test_ryg))"
   ]
  },
  {
   "cell_type": "markdown",
   "metadata": {},
   "source": [
    "4. Modelo SVC (vectores y kernels)"
   ]
  },
  {
   "cell_type": "code",
   "execution_count": 69,
   "metadata": {},
   "outputs": [],
   "source": [
    "from sklearn.svm import SVC\n",
    "from sklearn.model_selection import GridSearchCV\n",
    "\n",
    "svc_clf_param={\"C\":[0.1,1.0],\n",
    "                \"random_state\":[seed],\n",
    "                \"kernel\":[\"linear\", \"poly\", \"rbf\", \"sigmoid\"],\n",
    "                \"coef0\":[0.0,0.1],\n",
    "                \"degree\":[1,3,5],\n",
    "                \"gamma\":[\"scale\",\"auto\"],\n",
    "                \"shrinking\":[True,False],\n",
    "                \"probability\":[True],\n",
    "                \"tol\":[1e-3,1e-1],\n",
    "                \"class_weight\":[None,\"balanced\"],\n",
    "                \"max_iter\":[15],\n",
    "                \"decision_function_shape\":[\"ovo\", \"ovr\"],\n",
    "                \"break_ties\":[True,False]}\n",
    "\n",
    "svc_clf_puro = SVC()\n",
    "svc_clf_puro=GridSearchCV(svc_clf_puro,svc_clf_param,refit=True)\n"
   ]
  },
  {
   "cell_type": "code",
   "execution_count": 152,
   "metadata": {},
   "outputs": [
    {
     "data": {
      "text/plain": [
       "{'C': 1.0,\n",
       " 'break_ties': True,\n",
       " 'cache_size': 200,\n",
       " 'class_weight': None,\n",
       " 'coef0': 0.0,\n",
       " 'decision_function_shape': 'ovr',\n",
       " 'degree': 1,\n",
       " 'gamma': 'scale',\n",
       " 'kernel': 'linear',\n",
       " 'max_iter': 15,\n",
       " 'probability': True,\n",
       " 'random_state': 22,\n",
       " 'shrinking': True,\n",
       " 'tol': 0.001,\n",
       " 'verbose': False}"
      ]
     },
     "execution_count": 152,
     "metadata": {},
     "output_type": "execute_result"
    }
   ],
   "source": [
    "svc_clf_puro.get_params()"
   ]
  },
  {
   "cell_type": "code",
   "execution_count": 30,
   "metadata": {},
   "outputs": [
    {
     "name": "stderr",
     "output_type": "stream",
     "text": [
      "c:\\Users\\traba\\Desktop\\Competiciones Kaggle\\.conda\\lib\\site-packages\\sklearn\\svm\\_base.py:297: ConvergenceWarning: Solver terminated early (max_iter=15).  Consider pre-processing your data with StandardScaler or MinMaxScaler.\n",
      "  warnings.warn(\n",
      "c:\\Users\\traba\\Desktop\\Competiciones Kaggle\\.conda\\lib\\site-packages\\sklearn\\svm\\_base.py:297: ConvergenceWarning: Solver terminated early (max_iter=15).  Consider pre-processing your data with StandardScaler or MinMaxScaler.\n",
      "  warnings.warn(\n",
      "c:\\Users\\traba\\Desktop\\Competiciones Kaggle\\.conda\\lib\\site-packages\\sklearn\\svm\\_base.py:297: ConvergenceWarning: Solver terminated early (max_iter=15).  Consider pre-processing your data with StandardScaler or MinMaxScaler.\n",
      "  warnings.warn(\n",
      "c:\\Users\\traba\\Desktop\\Competiciones Kaggle\\.conda\\lib\\site-packages\\sklearn\\svm\\_base.py:297: ConvergenceWarning: Solver terminated early (max_iter=15).  Consider pre-processing your data with StandardScaler or MinMaxScaler.\n",
      "  warnings.warn(\n",
      "c:\\Users\\traba\\Desktop\\Competiciones Kaggle\\.conda\\lib\\site-packages\\sklearn\\svm\\_base.py:297: ConvergenceWarning: Solver terminated early (max_iter=15).  Consider pre-processing your data with StandardScaler or MinMaxScaler.\n",
      "  warnings.warn(\n"
     ]
    },
    {
     "name": "stdout",
     "output_type": "stream",
     "text": [
      "0.49656276485544776\n",
      "0.25365940735451625\n"
     ]
    },
    {
     "name": "stderr",
     "output_type": "stream",
     "text": [
      "c:\\Users\\traba\\Desktop\\Competiciones Kaggle\\.conda\\lib\\site-packages\\sklearn\\svm\\_base.py:297: ConvergenceWarning: Solver terminated early (max_iter=15).  Consider pre-processing your data with StandardScaler or MinMaxScaler.\n",
      "  warnings.warn(\n"
     ]
    }
   ],
   "source": [
    "svc_clf_puro.fit(X_train_ros,y_train_ros)\n",
    "svc_clf=svc_clf_puro.best_estimator_\n",
    "print(svc_clf.score(X_test_ros,y_test_ros))\n",
    "print(svc_clf.score(X_test_ryg,y_test_ryg))"
   ]
  },
  {
   "cell_type": "markdown",
   "metadata": {},
   "source": [
    "5. Modelo KNClassifier"
   ]
  },
  {
   "cell_type": "code",
   "execution_count": 70,
   "metadata": {},
   "outputs": [],
   "source": [
    "from sklearn.neighbors import KNeighborsClassifier\n",
    "from sklearn.model_selection import GridSearchCV\n",
    "\n",
    "knn_clf_param={\"n_neighbors\":[1,2,3,5,10],\n",
    "                \"weights\":[\"uniform\",\"distance\"],\n",
    "                \"algorithm\":[\"auto\", \"ball_tree\", \"kd_tree\",\"brute\"],\n",
    "                \"leaf_size\":[5,10,30],\n",
    "                \"p\":[0.0,1.0,2.0,3.0],\n",
    "                \"metric\":[\"minkowski\"]}\n",
    "\n",
    "knn_clf_puro = KNeighborsClassifier()\n",
    "knn_clf_puro=GridSearchCV(knn_clf_puro,knn_clf_param,refit=True)"
   ]
  },
  {
   "cell_type": "code",
   "execution_count": 31,
   "metadata": {},
   "outputs": [
    {
     "data": {
      "text/plain": [
       "{'algorithm': 'ball_tree',\n",
       " 'leaf_size': 5,\n",
       " 'metric': 'minkowski',\n",
       " 'metric_params': None,\n",
       " 'n_jobs': None,\n",
       " 'n_neighbors': 1,\n",
       " 'p': 1.0,\n",
       " 'weights': 'uniform'}"
      ]
     },
     "execution_count": 31,
     "metadata": {},
     "output_type": "execute_result"
    }
   ],
   "source": [
    "knn_clf_puro.get_params()"
   ]
  },
  {
   "cell_type": "code",
   "execution_count": 29,
   "metadata": {},
   "outputs": [
    {
     "name": "stdout",
     "output_type": "stream",
     "text": [
      "0.985362370581935\n",
      "0.978246539222149\n"
     ]
    }
   ],
   "source": [
    "knn_clf_puro.fit(X_train_ros,y_train_ros)\n",
    "knn_clf=knn_clf_puro.best_estimator_\n",
    "print(knn_clf.score(X_test_ryg,y_test_ryg))\n",
    "print(knn_clf.score(X_test_ros,y_test_ros))"
   ]
  },
  {
   "cell_type": "markdown",
   "metadata": {},
   "source": [
    "Modelo No Supervisado"
   ]
  },
  {
   "cell_type": "markdown",
   "metadata": {},
   "source": [
    "1. Modelo KMeans "
   ]
  },
  {
   "cell_type": "code",
   "execution_count": 71,
   "metadata": {},
   "outputs": [],
   "source": [
    "from sklearn.cluster import KMeans\n",
    "\n",
    "km_clf_param={\"n_clusters\":[2],\n",
    "                \"random_state\":[seed],\n",
    "                \"init\":[\"k-means++\", \"random\"],\n",
    "                \"n_init\":[\"auto\",\"random\"],\n",
    "                \"max_iter\":[100,200,300],\n",
    "                \"tol\":[1e-4,1e-2,1e-1],\n",
    "                \"copy_x\":[True,False],\n",
    "                \"algorithm\":[\"lloyd\",\"elkan\"]}\n",
    "\n",
    "km_clf_puro = KMeans()\n",
    "km_clf_puro=GridSearchCV(km_clf_puro,km_clf_param,refit=True)"
   ]
  },
  {
   "cell_type": "code",
   "execution_count": 34,
   "metadata": {},
   "outputs": [
    {
     "data": {
      "text/plain": [
       "{'ccp_alpha': 0.0,\n",
       " 'class_weight': None,\n",
       " 'criterion': 'gini',\n",
       " 'max_depth': 3,\n",
       " 'max_features': None,\n",
       " 'max_leaf_nodes': None,\n",
       " 'min_impurity_decrease': 0.0,\n",
       " 'min_samples_leaf': 1,\n",
       " 'min_samples_split': 2,\n",
       " 'min_weight_fraction_leaf': 0.0,\n",
       " 'monotonic_cst': None,\n",
       " 'random_state': 22,\n",
       " 'splitter': 'best'}"
      ]
     },
     "execution_count": 34,
     "metadata": {},
     "output_type": "execute_result"
    }
   ],
   "source": [
    "km_clf_puro.get_params()"
   ]
  },
  {
   "cell_type": "markdown",
   "metadata": {},
   "source": [
    "El score no nos sirve para saber si lo hemos hecho bien o mal de primeras. Intentemos ver la inertia."
   ]
  },
  {
   "cell_type": "code",
   "execution_count": 28,
   "metadata": {},
   "outputs": [
    {
     "name": "stderr",
     "output_type": "stream",
     "text": [
      "c:\\Users\\traba\\Desktop\\Competiciones Kaggle\\.conda\\lib\\site-packages\\joblib\\externals\\loky\\backend\\context.py:136: UserWarning: Could not find the number of physical cores for the following reason:\n",
      "found 0 physical cores < 1\n",
      "Returning the number of logical cores instead. You can silence this warning by setting LOKY_MAX_CPU_COUNT to the number of cores you want to use.\n",
      "  warnings.warn(\n",
      "  File \"c:\\Users\\traba\\Desktop\\Competiciones Kaggle\\.conda\\lib\\site-packages\\joblib\\externals\\loky\\backend\\context.py\", line 282, in _count_physical_cores\n",
      "    raise ValueError(f\"found {cpu_count_physical} physical cores < 1\")\n",
      "c:\\Users\\traba\\Desktop\\Competiciones Kaggle\\.conda\\lib\\site-packages\\sklearn\\model_selection\\_validation.py:540: FitFailedWarning: \n",
      "360 fits failed out of a total of 720.\n",
      "The score on these train-test partitions for these parameters will be set to nan.\n",
      "If these failures are not expected, you can try to debug them by setting error_score='raise'.\n",
      "\n",
      "Below are more details about the failures:\n",
      "--------------------------------------------------------------------------------\n",
      "360 fits failed with the following error:\n",
      "Traceback (most recent call last):\n",
      "  File \"c:\\Users\\traba\\Desktop\\Competiciones Kaggle\\.conda\\lib\\site-packages\\sklearn\\model_selection\\_validation.py\", line 888, in _fit_and_score\n",
      "    estimator.fit(X_train, y_train, **fit_params)\n",
      "  File \"c:\\Users\\traba\\Desktop\\Competiciones Kaggle\\.conda\\lib\\site-packages\\sklearn\\base.py\", line 1466, in wrapper\n",
      "    estimator._validate_params()\n",
      "  File \"c:\\Users\\traba\\Desktop\\Competiciones Kaggle\\.conda\\lib\\site-packages\\sklearn\\base.py\", line 666, in _validate_params\n",
      "    validate_parameter_constraints(\n",
      "  File \"c:\\Users\\traba\\Desktop\\Competiciones Kaggle\\.conda\\lib\\site-packages\\sklearn\\utils\\_param_validation.py\", line 95, in validate_parameter_constraints\n",
      "    raise InvalidParameterError(\n",
      "sklearn.utils._param_validation.InvalidParameterError: The 'n_init' parameter of KMeans must be a str among {'auto'} or an int in the range [1, inf). Got 'random' instead.\n",
      "\n",
      "  warnings.warn(some_fits_failed_message, FitFailedWarning)\n",
      "c:\\Users\\traba\\Desktop\\Competiciones Kaggle\\.conda\\lib\\site-packages\\sklearn\\model_selection\\_search.py:1052: UserWarning: One or more of the test scores are non-finite: [-1.31637391e+11 -1.31674065e+11 -1.31982553e+11             nan\n",
      "             nan             nan -1.31637391e+11 -1.31674065e+11\n",
      " -1.31982553e+11             nan             nan             nan\n",
      " -1.31637391e+11 -1.31674065e+11 -1.31982553e+11             nan\n",
      "             nan             nan -1.31637330e+11 -1.31633800e+11\n",
      " -1.31665114e+11             nan             nan             nan\n",
      " -1.31637330e+11 -1.31633800e+11 -1.31665114e+11             nan\n",
      "             nan             nan -1.31637330e+11 -1.31633800e+11\n",
      " -1.31665114e+11             nan             nan             nan\n",
      " -1.31637391e+11 -1.31674065e+11 -1.31982553e+11             nan\n",
      "             nan             nan -1.31637391e+11 -1.31674065e+11\n",
      " -1.31982553e+11             nan             nan             nan\n",
      " -1.31637391e+11 -1.31674065e+11 -1.31982553e+11             nan\n",
      "             nan             nan -1.31637330e+11 -1.31633800e+11\n",
      " -1.31665114e+11             nan             nan             nan\n",
      " -1.31637330e+11 -1.31633800e+11 -1.31665114e+11             nan\n",
      "             nan             nan -1.31637330e+11 -1.31633800e+11\n",
      " -1.31665114e+11             nan             nan             nan\n",
      " -1.31637391e+11 -1.31674065e+11 -1.31982553e+11             nan\n",
      "             nan             nan -1.31637391e+11 -1.31674065e+11\n",
      " -1.31982553e+11             nan             nan             nan\n",
      " -1.31637391e+11 -1.31674065e+11 -1.31982553e+11             nan\n",
      "             nan             nan -1.31637330e+11 -1.31633800e+11\n",
      " -1.31665114e+11             nan             nan             nan\n",
      " -1.31637330e+11 -1.31633800e+11 -1.31665114e+11             nan\n",
      "             nan             nan -1.31637330e+11 -1.31633800e+11\n",
      " -1.31665114e+11             nan             nan             nan\n",
      " -1.31637391e+11 -1.31674065e+11 -1.31982553e+11             nan\n",
      "             nan             nan -1.31637391e+11 -1.31674065e+11\n",
      " -1.31982553e+11             nan             nan             nan\n",
      " -1.31637391e+11 -1.31674065e+11 -1.31982553e+11             nan\n",
      "             nan             nan -1.31637330e+11 -1.31633800e+11\n",
      " -1.31665114e+11             nan             nan             nan\n",
      " -1.31637330e+11 -1.31633800e+11 -1.31665114e+11             nan\n",
      "             nan             nan -1.31637330e+11 -1.31633800e+11\n",
      " -1.31665114e+11             nan             nan             nan]\n",
      "  warnings.warn(\n"
     ]
    },
    {
     "name": "stdout",
     "output_type": "stream",
     "text": [
      "-88059719836.9299\n",
      "-164988332603.79666\n"
     ]
    }
   ],
   "source": [
    "km_clf_puro.fit(X_train_ros,y_train_ros)\n",
    "km_clf=km_clf_puro.best_estimator_\n",
    "print(km_clf.score(X_train_ryg,y_train_ryg))\n",
    "print(km_clf.score(X_test_ros,y_test_ros))"
   ]
  },
  {
   "cell_type": "code",
   "execution_count": 143,
   "metadata": {},
   "outputs": [
    {
     "data": {
      "text/plain": [
       "array([1, 1, 1, ..., 0, 1, 1])"
      ]
     },
     "execution_count": 143,
     "metadata": {},
     "output_type": "execute_result"
    }
   ],
   "source": [
    "km_clf.labels_"
   ]
  },
  {
   "cell_type": "code",
   "execution_count": 131,
   "metadata": {},
   "outputs": [
    {
     "data": {
      "text/plain": [
       "657923919598.318"
      ]
     },
     "execution_count": 131,
     "metadata": {},
     "output_type": "execute_result"
    }
   ],
   "source": [
    "km_clf.inertia_"
   ]
  },
  {
   "cell_type": "markdown",
   "metadata": {},
   "source": [
    "Metricas de los modelos"
   ]
  },
  {
   "cell_type": "code",
   "execution_count": 34,
   "metadata": {},
   "outputs": [
    {
     "name": "stdout",
     "output_type": "stream",
     "text": [
      "[1 1 1 ... 1 1 1]\n",
      "[1 1 1 ... 1 1 1]\n",
      "[1 1 0 ... 1 1 0]\n",
      "[0 0 1 ... 0 0 0]\n",
      "[1 1 0 ... 0 1 0]\n",
      "[1 1 1 ... 1 1 1]\n"
     ]
    }
   ],
   "source": [
    "from sklearn.metrics import accuracy_score, f1_score, precision_score, recall_score,roc_auc_score, roc_curve, precision_recall_curve, confusion_matrix\n",
    "\n",
    "predicciones_tree=tree_clf.predict(X_test_ryg)\n",
    "predicciones_forest=forest_clf.predict(X_test_ryg)\n",
    "predicciones_reglog=reglog_clf.predict(X_test_ros)\n",
    "predicciones_svc=svc_clf.predict(X_test_ros)\n",
    "predicciones_knn=knn_clf.predict(X_test_ros)\n",
    "predicciones_km=km_clf.predict(X_test_ros)\n",
    "\n",
    "print(predicciones_tree)\n",
    "print(predicciones_forest)\n",
    "print(predicciones_reglog)\n",
    "print(predicciones_svc)\n",
    "print(predicciones_knn)\n",
    "print(predicciones_km)\n"
   ]
  },
  {
   "cell_type": "markdown",
   "metadata": {},
   "source": [
    "1. Modelo Tree"
   ]
  },
  {
   "cell_type": "code",
   "execution_count": 41,
   "metadata": {},
   "outputs": [
    {
     "name": "stdout",
     "output_type": "stream",
     "text": [
      "AUC: 0.9509103891467333\n",
      "F1-Score:0.9748283752860412\n",
      "Precision Score: 0.9996245541580627\n",
      "Recall Score: 0.9512325830653805\n",
      "ROC-AUC Score: 0.7256162915326902\n",
      "ROC: (array([0. , 0.5, 1. ]), array([0.        , 0.95123258, 1.        ]), array([inf,  1.,  0.]))\n",
      "Precision Recall: (array([0.99928597, 0.99962455, 1.        ]), array([1.        , 0.95123258, 0.        ]), array([0, 1], dtype=int64))\n",
      "Specifity: 0.5\n"
     ]
    }
   ],
   "source": [
    "print(f\"AUC: \"+str(accuracy_score(predicciones_tree,y_test_ryg)))\n",
    "print(f\"F1-Score:\"+str(f1_score(predicciones_tree,y_test_ryg)))\n",
    "print(f\"Precision Score: \"+str(precision_score(predicciones_tree,y_test_ryg)))\n",
    "print(f\"Recall Score: \"+str(recall_score(predicciones_tree,y_test_ryg)))\n",
    "print(f\"ROC-AUC Score: \"+str(roc_auc_score(predicciones_tree,y_test_ryg)))\n",
    "print(f\"ROC: \"+str(roc_curve(predicciones_tree,y_test_ryg)))\n",
    "print(f\"Precision Recall: \"+str(precision_recall_curve(predicciones_tree,y_test_ryg)))\n",
    "print(f\"Specifity: \"+str(recall_score(predicciones_tree,y_test_ryg,pos_label=0)))"
   ]
  },
  {
   "cell_type": "code",
   "execution_count": 54,
   "metadata": {},
   "outputs": [
    {
     "data": {
      "text/plain": [
       "<Axes: >"
      ]
     },
     "execution_count": 54,
     "metadata": {},
     "output_type": "execute_result"
    },
    {
     "data": {
      "image/png": "[encoded data removed]",
      "text/plain": [
       "<Figure size 640x480 with 2 Axes>"
      ]
     },
     "metadata": {},
     "output_type": "display_data"
    }
   ],
   "source": [
    "sns.heatmap((confusion_matrix(predicciones_tree,y_test_ryg)),linewidths=1,annot=True,fmt=\"d\")"
   ]
  },
  {
   "cell_type": "markdown",
   "metadata": {},
   "source": [
    "2. Modelo Forest"
   ]
  },
  {
   "cell_type": "code",
   "execution_count": 40,
   "metadata": {},
   "outputs": [
    {
     "name": "stdout",
     "output_type": "stream",
     "text": [
      "AUC: 0.9503748661192432\n",
      "F1-Score:0.9745327958959326\n",
      "Precision Score: 0.9984982166322508\n",
      "Recall Score: 0.9516908212560387\n",
      "ROC-AUC Score: 0.6681531029357116\n",
      "ROC: (array([0.        , 0.61538462, 1.        ]), array([0.        , 0.95169082, 1.        ]), array([inf,  1.,  0.]))\n",
      "Precision Recall: (array([0.9976794 , 0.99849822, 1.        ]), array([1.        , 0.95169082, 0.        ]), array([0, 1], dtype=int64))\n",
      "Specifity: 0.38461538461538464\n"
     ]
    }
   ],
   "source": [
    "print(f\"AUC: \"+str(accuracy_score(predicciones_forest,y_test_ryg)))\n",
    "print(f\"F1-Score:\"+str(f1_score(predicciones_forest,y_test_ryg)))\n",
    "print(f\"Precision Score: \"+str(precision_score(predicciones_forest,y_test_ryg)))\n",
    "print(f\"Recall Score: \"+str(recall_score(predicciones_forest,y_test_ryg)))\n",
    "print(f\"ROC-AUC Score: \"+str(roc_auc_score(predicciones_forest,y_test_ryg)))\n",
    "print(f\"ROC: \"+str(roc_curve(predicciones_forest,y_test_ryg)))\n",
    "print(f\"Precision Recall: \"+str(precision_recall_curve(predicciones_forest,y_test_ryg)))\n",
    "print(f\"Specifity: \"+str(recall_score(predicciones_forest,y_test_ryg,pos_label=0)))"
   ]
  },
  {
   "cell_type": "code",
   "execution_count": 58,
   "metadata": {},
   "outputs": [
    {
     "data": {
      "text/plain": [
       "<Axes: >"
      ]
     },
     "execution_count": 58,
     "metadata": {},
     "output_type": "execute_result"
    },
    {
     "data": {
      "image/png": "[encoded data removed]",
      "text/plain": [
       "<Figure size 640x480 with 2 Axes>"
      ]
     },
     "metadata": {},
     "output_type": "display_data"
    }
   ],
   "source": [
    "sns.heatmap((confusion_matrix(predicciones_forest,y_test_ryg)),linewidths=1,annot=True,fmt=\"d\")"
   ]
  },
  {
   "cell_type": "markdown",
   "metadata": {},
   "source": [
    "3. Modelo Regresion Log."
   ]
  },
  {
   "cell_type": "code",
   "execution_count": 38,
   "metadata": {},
   "outputs": [
    {
     "name": "stdout",
     "output_type": "stream",
     "text": [
      "AUC: 0.7969676994067239\n",
      "F1-Score:0.79451010293557\n",
      "Precision Score: 0.7752976190476191\n",
      "Recall Score: 0.8146989835809226\n",
      "ROC-AUC Score: 0.7975911781433597\n",
      "ROC: (array([0.        , 0.21951663, 1.        ]), array([0.        , 0.81469898, 1.        ]), array([inf,  1.,  0.]))\n",
      "Precision Recall: (array([0.48177795, 0.77529762, 1.        ]), array([1.        , 0.81469898, 0.        ]), array([0, 1], dtype=int64))\n",
      "Specifity: 0.7804833727057968\n"
     ]
    }
   ],
   "source": [
    "print(f\"AUC: \"+str(accuracy_score(predicciones_reglog,y_test_ros)))\n",
    "print(f\"F1-Score:\"+str(f1_score(predicciones_reglog,y_test_ros)))\n",
    "print(f\"Precision Score: \"+str(precision_score(predicciones_reglog,y_test_ros)))\n",
    "print(f\"Recall Score: \"+str(recall_score(predicciones_reglog,y_test_ros)))\n",
    "print(f\"ROC-AUC Score: \"+str(roc_auc_score(predicciones_reglog,y_test_ros)))\n",
    "print(f\"ROC: \"+str(roc_curve(predicciones_reglog,y_test_ros)))\n",
    "print(f\"Precision Recall: \"+str(precision_recall_curve(predicciones_reglog,y_test_ros)))\n",
    "print(f\"Specifity: \"+str(recall_score(predicciones_reglog,y_test_ros,pos_label=0)))"
   ]
  },
  {
   "cell_type": "code",
   "execution_count": 59,
   "metadata": {},
   "outputs": [
    {
     "data": {
      "text/plain": [
       "<Axes: >"
      ]
     },
     "execution_count": 59,
     "metadata": {},
     "output_type": "execute_result"
    },
    {
     "data": {
      "image/png": "[encoded data removed]",
      "text/plain": [
       "<Figure size 640x480 with 2 Axes>"
      ]
     },
     "metadata": {},
     "output_type": "display_data"
    }
   ],
   "source": [
    "sns.heatmap((confusion_matrix(predicciones_reglog,y_test_ros)),linewidths=1,annot=True,fmt=\"d\")"
   ]
  },
  {
   "cell_type": "markdown",
   "metadata": {},
   "source": [
    "4. Modelo SVC"
   ]
  },
  {
   "cell_type": "code",
   "execution_count": 37,
   "metadata": {},
   "outputs": [
    {
     "name": "stdout",
     "output_type": "stream",
     "text": [
      "AUC: 0.49656276485544776\n",
      "F1-Score:0.31303006939090205\n",
      "Precision Score: 0.2265625\n",
      "Recall Score: 0.5062344139650873\n",
      "ROC-AUC Score: 0.499981933635411\n",
      "ROC: (array([0.        , 0.50627055, 1.        ]), array([0.        , 0.50623441, 1.        ]), array([inf,  1.,  0.]))\n",
      "Precision Recall: (array([0.22657501, 0.2265625 , 1.        ]), array([1.        , 0.50623441, 0.        ]), array([0, 1], dtype=int64))\n",
      "Specifity: 0.4937294533057348\n"
     ]
    }
   ],
   "source": [
    "print(f\"AUC: \"+str(accuracy_score(predicciones_svc,y_test_ros)))\n",
    "print(f\"F1-Score:\"+str(f1_score(predicciones_svc,y_test_ros)))\n",
    "print(f\"Precision Score: \"+str(precision_score(predicciones_svc,y_test_ros)))\n",
    "print(f\"Recall Score: \"+str(recall_score(predicciones_svc,y_test_ros)))\n",
    "print(f\"ROC-AUC Score: \"+str(roc_auc_score(predicciones_svc,y_test_ros)))\n",
    "print(f\"ROC: \"+str(roc_curve(predicciones_svc,y_test_ros)))\n",
    "print(f\"Precision Recall: \"+str(precision_recall_curve(predicciones_svc,y_test_ros)))\n",
    "print(f\"Specifity: \"+str(recall_score(predicciones_svc,y_test_ros,pos_label=0)))"
   ]
  },
  {
   "cell_type": "code",
   "execution_count": 61,
   "metadata": {},
   "outputs": [
    {
     "data": {
      "text/plain": [
       "<Axes: >"
      ]
     },
     "execution_count": 61,
     "metadata": {},
     "output_type": "execute_result"
    },
    {
     "data": {
      "image/png": "[encoded data removed]",
      "text/plain": [
       "<Figure size 640x480 with 2 Axes>"
      ]
     },
     "metadata": {},
     "output_type": "display_data"
    }
   ],
   "source": [
    "sns.heatmap((confusion_matrix(predicciones_svc,y_test_ros)),linewidths=1,annot=True,fmt=\"d\")"
   ]
  },
  {
   "cell_type": "markdown",
   "metadata": {},
   "source": [
    "5. Modelo KNN"
   ]
  },
  {
   "cell_type": "code",
   "execution_count": 36,
   "metadata": {},
   "outputs": [
    {
     "name": "stdout",
     "output_type": "stream",
     "text": [
      "AUC: 0.978246539222149\n",
      "F1-Score:0.9780439121756487\n",
      "Precision Score: 0.95703125\n",
      "Recall Score: 1.0\n",
      "ROC-AUC Score: 0.9789002557544757\n",
      "ROC: (array([0.        , 0.04219949, 1.        ]), array([0., 1., 1.]), array([inf,  1.,  0.]))\n",
      "Precision Recall: (array([0.4845089 , 0.95703125, 1.        ]), array([1., 1., 0.]), array([0, 1], dtype=int64))\n",
      "Specifity: 0.9578005115089514\n"
     ]
    }
   ],
   "source": [
    "print(f\"AUC: \"+str(accuracy_score(predicciones_knn,y_test_ros)))\n",
    "print(f\"F1-Score:\"+str(f1_score(predicciones_knn,y_test_ros)))\n",
    "print(f\"Precision Score: \"+str(precision_score(predicciones_knn,y_test_ros)))\n",
    "print(f\"Recall Score: \"+str(recall_score(predicciones_knn,y_test_ros)))\n",
    "print(f\"ROC-AUC Score: \"+str(roc_auc_score(predicciones_knn,y_test_ros)))\n",
    "print(f\"ROC: \"+str(roc_curve(predicciones_knn,y_test_ros)))\n",
    "print(f\"Precision Recall: \"+str(precision_recall_curve(predicciones_knn,y_test_ros)))\n",
    "print(f\"Specifity: \"+str(recall_score(predicciones_knn,y_test_ros,pos_label=0)))"
   ]
  },
  {
   "cell_type": "code",
   "execution_count": 63,
   "metadata": {},
   "outputs": [
    {
     "data": {
      "text/plain": [
       "<Axes: >"
      ]
     },
     "execution_count": 63,
     "metadata": {},
     "output_type": "execute_result"
    },
    {
     "data": {
      "image/png": "[encoded data removed]",
      "text/plain": [
       "<Figure size 640x480 with 2 Axes>"
      ]
     },
     "metadata": {},
     "output_type": "display_data"
    }
   ],
   "source": [
    "sns.heatmap((confusion_matrix(predicciones_knn,y_test_ros)),linewidths=1,annot=True,fmt=\"d\")"
   ]
  },
  {
   "cell_type": "markdown",
   "metadata": {},
   "source": [
    "1. Modelo KMeans"
   ]
  },
  {
   "cell_type": "code",
   "execution_count": 35,
   "metadata": {},
   "outputs": [
    {
     "name": "stdout",
     "output_type": "stream",
     "text": [
      "AUC: 0.5158677841604671\n",
      "F1-Score:0.6764020897589224\n",
      "Precision Score: 0.9994419642857143\n",
      "Recall Score: 0.5111787651032252\n",
      "ROC-AUC Score: 0.7417004936627237\n",
      "ROC: (array([0.        , 0.02777778, 1.        ]), array([0.        , 0.51117877, 1.        ]), array([inf,  1.,  0.]))\n",
      "Precision Recall: (array([0.98982955, 0.99944196, 1.        ]), array([1.        , 0.51117877, 0.        ]), array([0, 1], dtype=int64))\n",
      "Specifity: 0.9722222222222222\n"
     ]
    }
   ],
   "source": [
    "print(f\"AUC: \"+str(accuracy_score(predicciones_km,y_test_ros)))\n",
    "print(f\"F1-Score:\"+str(f1_score(predicciones_km,y_test_ros)))\n",
    "print(f\"Precision Score: \"+str(precision_score(predicciones_km,y_test_ros)))\n",
    "print(f\"Recall Score: \"+str(recall_score(predicciones_km,y_test_ros)))\n",
    "print(f\"ROC-AUC Score: \"+str(roc_auc_score(predicciones_km,y_test_ros)))\n",
    "print(f\"ROC: \"+str(roc_curve(predicciones_km,y_test_ros)))\n",
    "print(f\"Precision Recall: \"+str(precision_recall_curve(predicciones_km,y_test_ros)))\n",
    "print(f\"Specifity: \"+str(recall_score(predicciones_km,y_test_ros,pos_label=0)))"
   ]
  },
  {
   "cell_type": "code",
   "execution_count": 65,
   "metadata": {},
   "outputs": [
    {
     "data": {
      "text/plain": [
       "<Axes: >"
      ]
     },
     "execution_count": 65,
     "metadata": {},
     "output_type": "execute_result"
    },
    {
     "data": {
      "image/png": "[encoded data removed]",
      "text/plain": [
       "<Figure size 640x480 with 2 Axes>"
      ]
     },
     "metadata": {},
     "output_type": "display_data"
    }
   ],
   "source": [
    "sns.heatmap((confusion_matrix(predicciones_km,y_test_ros)),linewidths=1,annot=True,fmt=\"d\")"
   ]
  },
  {
   "cell_type": "markdown",
   "metadata": {},
   "source": [
    "Vamos a guardar los modelos de cada tipo. Esta será la primera versión de cada uno de ellos, aunque solamente nos quedaremos y desarrollaremos uno."
   ]
  },
  {
   "cell_type": "code",
   "execution_count": 73,
   "metadata": {},
   "outputs": [],
   "source": [
    "import pickle \n",
    "with open(f'trained_model_tree_cfl.pkl',\"wb\") as archivo_salida:\n",
    "        pickle.dump(tree_clf, archivo_salida)\n",
    "with open(f'trained_model_forest_cfl.pkl',\"wb\") as archivo_salida:\n",
    "        pickle.dump(forest_clf, archivo_salida)\n",
    "with open(f'trained_model_reglog_cfl.pkl',\"wb\") as archivo_salida:\n",
    "        pickle.dump(reglog_clf, archivo_salida)\n",
    "with open(f'trained_model_svc_cfl.pkl',\"wb\") as archivo_salida:\n",
    "        pickle.dump(svc_clf, archivo_salida)\n",
    "with open(f'trained_model_knn_cfl.pkl',\"wb\") as archivo_salida:\n",
    "        pickle.dump(knn_clf, archivo_salida)\n",
    "with open(f'trained_model_km_cfl.pkl',\"wb\") as archivo_salida:\n",
    "        pickle.dump(km_clf, archivo_salida)"
   ]
  },
  {
   "cell_type": "markdown",
   "metadata": {},
   "source": [
    "Modelos entrenados con datos controversiales (train_ryg): "
   ]
  },
  {
   "cell_type": "code",
   "execution_count": 37,
   "metadata": {},
   "outputs": [],
   "source": [
    "import pickle \n",
    "tree_clf = pickle.load(open('../models/trained_w_data_controv/trained_model_tree_clf.pkl', 'rb'))\n",
    "forest_clf= pickle.load(open('../models/trained_w_data_controv/trained_model_forest_cfl.pkl', 'rb'))\n",
    "reglog_clf = pickle.load(open('../models/trained_w_data_controv/trained_model_reglog_cfl.pkl', 'rb'))\n",
    "svc_clf = pickle.load(open('../models/trained_w_data_controv/trained_model_svc_cfl.pkl', 'rb'))\n",
    "knn_clf = pickle.load(open('../models/trained_w_data_controv/trained_model_knn_cfl.pkl', 'rb'))\n",
    "km_clf = pickle.load(open('../models/trained_w_data_controv/trained_model_km_cfl.pkl', 'rb'))"
   ]
  },
  {
   "cell_type": "markdown",
   "metadata": {},
   "source": [
    "Modelos no entrenados:"
   ]
  },
  {
   "cell_type": "code",
   "execution_count": 72,
   "metadata": {},
   "outputs": [],
   "source": [
    "import pickle \n",
    "with open(f'untrained_model_tree_cfl.pkl',\"wb\") as archivo_salida:\n",
    "        pickle.dump(tree_clf_puro, archivo_salida)\n",
    "with open(f'untrained_model_forest_cfl.pkl',\"wb\") as archivo_salida:\n",
    "        pickle.dump(forest_clf_puro, archivo_salida)\n",
    "with open(f'untrained_model_reglog_cfl.pkl',\"wb\") as archivo_salida:\n",
    "        pickle.dump(reglog_clf_puro, archivo_salida)\n",
    "with open(f'untrained_model_svc_cfl.pkl',\"wb\") as archivo_salida:\n",
    "        pickle.dump(svc_clf_puro, archivo_salida)\n",
    "with open(f'untrained_model_knn_cfl.pkl',\"wb\") as archivo_salida:\n",
    "        pickle.dump(knn_clf_puro, archivo_salida)\n",
    "with open(f'untrained_model_km_cfl.pkl',\"wb\") as archivo_salida:\n",
    "        pickle.dump(km_clf_puro, archivo_salida)"
   ]
  },
  {
   "cell_type": "code",
   "execution_count": 17,
   "metadata": {},
   "outputs": [],
   "source": [
    "import pickle \n",
    "tree_clf_puro = pickle.load(open('../models/untrained/untrained_model_tree_cfl.pkl', 'rb'))\n",
    "forest_clf_puro= pickle.load(open('../models/untrained/untrained_model_forest_cfl.pkl', 'rb'))\n",
    "reglog_clf_puro = pickle.load(open('../models/untrained/untrained_model_reglog_cfl.pkl', 'rb'))\n",
    "svc_clf_puro = pickle.load(open('../models/untrained/untrained_model_svc_cfl.pkl', 'rb'))\n",
    "knn_clf_puro = pickle.load(open('../models/untrained/untrained_model_knn_cfl.pkl', 'rb'))\n",
    "km_clf_puro= pickle.load(open('../models/untrained/untrained_model_km_cfl.pkl', 'rb'))"
   ]
  },
  {
   "cell_type": "markdown",
   "metadata": {},
   "source": [
    "Sus hiperparametros:"
   ]
  },
  {
   "cell_type": "code",
   "execution_count": 25,
   "metadata": {},
   "outputs": [],
   "source": [
    "import yaml\n",
    "with open(\"hyperparameters_model_tree_clf.yaml\", \"w\") as file:\n",
    "    yaml.dump(tree_clf_puro.get_params(), file, default_flow_style=False)\n",
    "with open(\"hyperparameters_model_forest_clf.yaml\", \"w\") as file:\n",
    "    yaml.dump(forest_clf_puro.get_params(), file, default_flow_style=False)\n",
    "with open(\"hyperparameters_model_reglog_clf.yaml\", \"w\") as file:\n",
    "    yaml.dump(reglog_clf_puro.get_params(), file, default_flow_style=False)\n",
    "with open(\"hyperparameters_model_svc_clf.yaml\", \"w\") as file:\n",
    "    yaml.dump(svc_clf_puro.get_params(), file, default_flow_style=False)\n",
    "with open(\"hyperparameters_model_knn_clf.yaml\", \"w\") as file:\n",
    "    yaml.dump(knn_clf_puro.get_params(), file, default_flow_style=False)\n",
    "with open(\"hyperparameters_model_km_clf.yaml\", \"w\") as file:\n",
    "    yaml.dump(km_clf_puro.get_params(), file, default_flow_style=False)"
   ]
  },
  {
   "cell_type": "markdown",
   "metadata": {},
   "source": [
    "Lo siguiente es ver cómo funcionara cada uno de los modelos con los datos que tenemos, pero eliminando las features controversiales."
   ]
  },
  {
   "cell_type": "code",
   "execution_count": 16,
   "metadata": {},
   "outputs": [
    {
     "data": {
      "text/plain": [
       "Index(['ID', 'lsat', 'grad', 'zgpa', 'fulltime', 'fam_inc', 'male', 'Dropout',\n",
       "       'white', 'other', 'asian', 'black', 'hisp', 'tier', 'indxgrp', 'gpa'],\n",
       "      dtype='object')"
      ]
     },
     "execution_count": 16,
     "metadata": {},
     "output_type": "execute_result"
    }
   ],
   "source": [
    "X_train_ryg.columns"
   ]
  },
  {
   "cell_type": "code",
   "execution_count": 17,
   "metadata": {},
   "outputs": [
    {
     "data": {
      "text/plain": [
       "Index(['ID', 'lsat', 'grad', 'zgpa', 'fulltime', 'fam_inc', 'male', 'Dropout',\n",
       "       'white', 'other', 'asian', 'black', 'hisp', 'tier', 'indxgrp', 'gpa'],\n",
       "      dtype='object')"
      ]
     },
     "execution_count": 17,
     "metadata": {},
     "output_type": "execute_result"
    }
   ],
   "source": [
    "X_train_ros.columns"
   ]
  },
  {
   "cell_type": "code",
   "execution_count": 15,
   "metadata": {},
   "outputs": [],
   "source": [
    "X_train_nocontrov=X_train_ryg.drop([\"male\",\"white\",\"other\",\"asian\",\"black\",\"hisp\"],axis=1)\n",
    "X_test_nocontrov=X_test_ryg.drop([\"male\",\"white\",\"other\",\"asian\",\"black\",\"hisp\"],axis=1)\n",
    "X_train_ros_nocontrov=X_train_ros.drop([\"male\",\"white\",\"other\",\"asian\",\"black\",\"hisp\"],axis=1)\n",
    "X_test_ros_nocontrov=X_test_ros.drop([\"male\",\"white\",\"other\",\"asian\",\"black\",\"hisp\"],axis=1)"
   ]
  },
  {
   "cell_type": "markdown",
   "metadata": {},
   "source": [
    "Vamos a guardar estos datos:"
   ]
  },
  {
   "cell_type": "code",
   "execution_count": 16,
   "metadata": {},
   "outputs": [],
   "source": [
    "X_train_nocontrov.to_csv(\"../data/train/datos_procesados_X_train_nocontrov.csv\",index=False)\n",
    "X_test_nocontrov.to_csv(\"../data/test/datos_procesados_X_test_nocontrov.csv\",index=False)\n",
    "X_train_ros_nocontrov.to_csv(\"../data/train/datos_procesados_X_train_ros_nocontrov.csv\",index=False)\n",
    "X_test_ros_nocontrov.to_csv(\"../data/test/datos_procesados_X_test_ros_nocontrov.csv\",index=False)"
   ]
  },
  {
   "cell_type": "code",
   "execution_count": 17,
   "metadata": {},
   "outputs": [
    {
     "name": "stdout",
     "output_type": "stream",
     "text": [
      "0.9479321630467122\n"
     ]
    },
    {
     "data": {
      "text/plain": [
       "0.9509103891467333"
      ]
     },
     "execution_count": 17,
     "metadata": {},
     "output_type": "execute_result"
    }
   ],
   "source": [
    "tree_clf_puro.fit(X_train_nocontrov,y_train_ryg)\n",
    "tree_clf_sincontr=tree_clf_puro.best_estimator_\n",
    "print(tree_clf_sincontr.score(X_train_nocontrov,y_train_ryg))\n",
    "tree_clf_sincontr.score(X_test_nocontrov,y_test_ryg)"
   ]
  },
  {
   "cell_type": "code",
   "execution_count": 22,
   "metadata": {},
   "outputs": [
    {
     "name": "stdout",
     "output_type": "stream",
     "text": [
      "0.946861053257959\n"
     ]
    },
    {
     "data": {
      "text/plain": [
       "0.9507318814709033"
      ]
     },
     "execution_count": 22,
     "metadata": {},
     "output_type": "execute_result"
    }
   ],
   "source": [
    "forest_clf_puro.fit(X_train_nocontrov,y_train_ryg)\n",
    "forest_clf_sincontr=forest_clf_puro.best_estimator_\n",
    "print(forest_clf_sincontr.score(X_train_nocontrov,y_train_ryg))\n",
    "forest_clf_sincontr.score(X_test_nocontrov,y_test_ryg)"
   ]
  },
  {
   "cell_type": "code",
   "execution_count": 24,
   "metadata": {},
   "outputs": [
    {
     "name": "stderr",
     "output_type": "stream",
     "text": [
      "c:\\Users\\traba\\Desktop\\Competiciones Kaggle\\.conda\\lib\\site-packages\\sklearn\\linear_model\\_logistic.py:1197: UserWarning: l1_ratio parameter is only used when penalty is 'elasticnet'. Got (penalty=l2)\n",
      "  warnings.warn(\n",
      "c:\\Users\\traba\\Desktop\\Competiciones Kaggle\\.conda\\lib\\site-packages\\sklearn\\linear_model\\_logistic.py:1247: FutureWarning: 'multi_class' was deprecated in version 1.5 and will be removed in 1.7. From then on, it will always use 'multinomial'. Leave it to its default value to avoid this warning.\n",
      "  warnings.warn(\n",
      "c:\\Users\\traba\\Desktop\\Competiciones Kaggle\\.conda\\lib\\site-packages\\sklearn\\linear_model\\_logistic.py:1197: UserWarning: l1_ratio parameter is only used when penalty is 'elasticnet'. Got (penalty=l2)\n",
      "  warnings.warn(\n",
      "c:\\Users\\traba\\Desktop\\Competiciones Kaggle\\.conda\\lib\\site-packages\\sklearn\\linear_model\\_logistic.py:1247: FutureWarning: 'multi_class' was deprecated in version 1.5 and will be removed in 1.7. From then on, it will always use 'multinomial'. Leave it to its default value to avoid this warning.\n",
      "  warnings.warn(\n",
      "c:\\Users\\traba\\Desktop\\Competiciones Kaggle\\.conda\\lib\\site-packages\\sklearn\\linear_model\\_logistic.py:1197: UserWarning: l1_ratio parameter is only used when penalty is 'elasticnet'. Got (penalty=l2)\n",
      "  warnings.warn(\n",
      "c:\\Users\\traba\\Desktop\\Competiciones Kaggle\\.conda\\lib\\site-packages\\sklearn\\linear_model\\_logistic.py:1247: FutureWarning: 'multi_class' was deprecated in version 1.5 and will be removed in 1.7. From then on, it will always use 'multinomial'. Leave it to its default value to avoid this warning.\n",
      "  warnings.warn(\n",
      "c:\\Users\\traba\\Desktop\\Competiciones Kaggle\\.conda\\lib\\site-packages\\sklearn\\linear_model\\_logistic.py:1197: UserWarning: l1_ratio parameter is only used when penalty is 'elasticnet'. Got (penalty=l2)\n",
      "  warnings.warn(\n",
      "c:\\Users\\traba\\Desktop\\Competiciones Kaggle\\.conda\\lib\\site-packages\\sklearn\\linear_model\\_logistic.py:1247: FutureWarning: 'multi_class' was deprecated in version 1.5 and will be removed in 1.7. From then on, it will always use 'multinomial'. Leave it to its default value to avoid this warning.\n",
      "  warnings.warn(\n",
      "c:\\Users\\traba\\Desktop\\Competiciones Kaggle\\.conda\\lib\\site-packages\\sklearn\\linear_model\\_logistic.py:1197: UserWarning: l1_ratio parameter is only used when penalty is 'elasticnet'. Got (penalty=l2)\n",
      "  warnings.warn(\n",
      "c:\\Users\\traba\\Desktop\\Competiciones Kaggle\\.conda\\lib\\site-packages\\sklearn\\linear_model\\_logistic.py:1247: FutureWarning: 'multi_class' was deprecated in version 1.5 and will be removed in 1.7. From then on, it will always use 'multinomial'. Leave it to its default value to avoid this warning.\n",
      "  warnings.warn(\n",
      "c:\\Users\\traba\\Desktop\\Competiciones Kaggle\\.conda\\lib\\site-packages\\sklearn\\linear_model\\_logistic.py:1197: UserWarning: l1_ratio parameter is only used when penalty is 'elasticnet'. Got (penalty=l2)\n",
      "  warnings.warn(\n",
      "c:\\Users\\traba\\Desktop\\Competiciones Kaggle\\.conda\\lib\\site-packages\\sklearn\\linear_model\\_logistic.py:1247: FutureWarning: 'multi_class' was deprecated in version 1.5 and will be removed in 1.7. From then on, it will always use 'multinomial'. Leave it to its default value to avoid this warning.\n",
      "  warnings.warn(\n"
     ]
    },
    {
     "name": "stdout",
     "output_type": "stream",
     "text": [
      "0.9480511752454627\n"
     ]
    },
    {
     "data": {
      "text/plain": [
       "0.9501963584434131"
      ]
     },
     "execution_count": 24,
     "metadata": {},
     "output_type": "execute_result"
    }
   ],
   "source": [
    "reglog_clf_puro.fit(X_train_nocontrov,y_train_ryg)\n",
    "reglog_clf_sincontr=reglog_clf_puro.best_estimator_\n",
    "print(reglog_clf_sincontr.score(X_train_nocontrov,y_train_ryg))\n",
    "reglog_clf_sincontr.score(X_test_nocontrov,y_test_ryg)"
   ]
  },
  {
   "cell_type": "markdown",
   "metadata": {},
   "source": [
    "Parece que con SVC hay una mejora sustancial quitando los datos controversiales, seguramente es por la forma en que funciona el modelo."
   ]
  },
  {
   "cell_type": "code",
   "execution_count": 25,
   "metadata": {},
   "outputs": [
    {
     "name": "stdout",
     "output_type": "stream",
     "text": [
      "0.5597738768223743\n"
     ]
    },
    {
     "name": "stderr",
     "output_type": "stream",
     "text": [
      "c:\\Users\\traba\\Desktop\\Competiciones Kaggle\\.conda\\lib\\site-packages\\sklearn\\svm\\_base.py:297: ConvergenceWarning: Solver terminated early (max_iter=15).  Consider pre-processing your data with StandardScaler or MinMaxScaler.\n",
      "  warnings.warn(\n",
      "c:\\Users\\traba\\Desktop\\Competiciones Kaggle\\.conda\\lib\\site-packages\\sklearn\\svm\\_base.py:297: ConvergenceWarning: Solver terminated early (max_iter=15).  Consider pre-processing your data with StandardScaler or MinMaxScaler.\n",
      "  warnings.warn(\n",
      "c:\\Users\\traba\\Desktop\\Competiciones Kaggle\\.conda\\lib\\site-packages\\sklearn\\svm\\_base.py:297: ConvergenceWarning: Solver terminated early (max_iter=15).  Consider pre-processing your data with StandardScaler or MinMaxScaler.\n",
      "  warnings.warn(\n",
      "c:\\Users\\traba\\Desktop\\Competiciones Kaggle\\.conda\\lib\\site-packages\\sklearn\\svm\\_base.py:297: ConvergenceWarning: Solver terminated early (max_iter=15).  Consider pre-processing your data with StandardScaler or MinMaxScaler.\n",
      "  warnings.warn(\n",
      "c:\\Users\\traba\\Desktop\\Competiciones Kaggle\\.conda\\lib\\site-packages\\sklearn\\svm\\_base.py:297: ConvergenceWarning: Solver terminated early (max_iter=15).  Consider pre-processing your data with StandardScaler or MinMaxScaler.\n",
      "  warnings.warn(\n",
      "c:\\Users\\traba\\Desktop\\Competiciones Kaggle\\.conda\\lib\\site-packages\\sklearn\\svm\\_base.py:297: ConvergenceWarning: Solver terminated early (max_iter=15).  Consider pre-processing your data with StandardScaler or MinMaxScaler.\n",
      "  warnings.warn(\n"
     ]
    },
    {
     "data": {
      "text/plain": [
       "0.5553373795073188"
      ]
     },
     "execution_count": 25,
     "metadata": {},
     "output_type": "execute_result"
    }
   ],
   "source": [
    "svc_clf_puro.fit(X_train_nocontrov,y_train_ryg)\n",
    "svc_clf_sincontr=svc_clf_puro.best_estimator_\n",
    "print(svc_clf_sincontr.score(X_train_nocontrov,y_train_ryg))\n",
    "svc_clf_sincontr.score(X_test_nocontrov,y_test_ryg)"
   ]
  },
  {
   "cell_type": "markdown",
   "metadata": {},
   "source": [
    "En este modelo tenemos un overfitting con los datos de train pero no con los de test. Deberemos ver esto más detenidamente."
   ]
  },
  {
   "cell_type": "code",
   "execution_count": 27,
   "metadata": {},
   "outputs": [
    {
     "name": "stdout",
     "output_type": "stream",
     "text": [
      "1.0\n"
     ]
    },
    {
     "data": {
      "text/plain": [
       "0.9257408068546947"
      ]
     },
     "execution_count": 27,
     "metadata": {},
     "output_type": "execute_result"
    }
   ],
   "source": [
    "knn_clf_puro.fit(X_train_nocontrov,y_train_ryg)\n",
    "knn_clf_sincontr=knn_clf_puro.best_estimator_\n",
    "print(knn_clf_sincontr.score(X_train_nocontrov,y_train_ryg))\n",
    "knn_clf_sincontr.score(X_test_nocontrov,y_test_ryg)"
   ]
  },
  {
   "cell_type": "code",
   "execution_count": 29,
   "metadata": {},
   "outputs": [
    {
     "name": "stderr",
     "output_type": "stream",
     "text": [
      "c:\\Users\\traba\\Desktop\\Competiciones Kaggle\\.conda\\lib\\site-packages\\joblib\\externals\\loky\\backend\\context.py:136: UserWarning: Could not find the number of physical cores for the following reason:\n",
      "found 0 physical cores < 1\n",
      "Returning the number of logical cores instead. You can silence this warning by setting LOKY_MAX_CPU_COUNT to the number of cores you want to use.\n",
      "  warnings.warn(\n",
      "  File \"c:\\Users\\traba\\Desktop\\Competiciones Kaggle\\.conda\\lib\\site-packages\\joblib\\externals\\loky\\backend\\context.py\", line 282, in _count_physical_cores\n",
      "    raise ValueError(f\"found {cpu_count_physical} physical cores < 1\")\n"
     ]
    },
    {
     "name": "stdout",
     "output_type": "stream",
     "text": [
      "-264477654331.08337\n"
     ]
    },
    {
     "name": "stderr",
     "output_type": "stream",
     "text": [
      "c:\\Users\\traba\\Desktop\\Competiciones Kaggle\\.conda\\lib\\site-packages\\sklearn\\model_selection\\_validation.py:540: FitFailedWarning: \n",
      "360 fits failed out of a total of 720.\n",
      "The score on these train-test partitions for these parameters will be set to nan.\n",
      "If these failures are not expected, you can try to debug them by setting error_score='raise'.\n",
      "\n",
      "Below are more details about the failures:\n",
      "--------------------------------------------------------------------------------\n",
      "360 fits failed with the following error:\n",
      "Traceback (most recent call last):\n",
      "  File \"c:\\Users\\traba\\Desktop\\Competiciones Kaggle\\.conda\\lib\\site-packages\\sklearn\\model_selection\\_validation.py\", line 888, in _fit_and_score\n",
      "    estimator.fit(X_train, y_train, **fit_params)\n",
      "  File \"c:\\Users\\traba\\Desktop\\Competiciones Kaggle\\.conda\\lib\\site-packages\\sklearn\\base.py\", line 1466, in wrapper\n",
      "    estimator._validate_params()\n",
      "  File \"c:\\Users\\traba\\Desktop\\Competiciones Kaggle\\.conda\\lib\\site-packages\\sklearn\\base.py\", line 666, in _validate_params\n",
      "    validate_parameter_constraints(\n",
      "  File \"c:\\Users\\traba\\Desktop\\Competiciones Kaggle\\.conda\\lib\\site-packages\\sklearn\\utils\\_param_validation.py\", line 95, in validate_parameter_constraints\n",
      "    raise InvalidParameterError(\n",
      "sklearn.utils._param_validation.InvalidParameterError: The 'n_init' parameter of KMeans must be a str among {'auto'} or an int in the range [1, inf). Got 'random' instead.\n",
      "\n",
      "  warnings.warn(some_fits_failed_message, FitFailedWarning)\n",
      "c:\\Users\\traba\\Desktop\\Competiciones Kaggle\\.conda\\lib\\site-packages\\sklearn\\model_selection\\_search.py:1052: UserWarning: One or more of the test scores are non-finite: [-5.29040948e+10 -5.29197173e+10 -5.31286240e+10             nan\n",
      "             nan             nan -5.29040948e+10 -5.29197173e+10\n",
      " -5.31286240e+10             nan             nan             nan\n",
      " -5.29040948e+10 -5.29197173e+10 -5.31286240e+10             nan\n",
      "             nan             nan -5.29041915e+10 -5.29218786e+10\n",
      " -5.29242322e+10             nan             nan             nan\n",
      " -5.29041915e+10 -5.29218786e+10 -5.29242322e+10             nan\n",
      "             nan             nan -5.29041915e+10 -5.29218786e+10\n",
      " -5.29242322e+10             nan             nan             nan\n",
      " -5.29040948e+10 -5.29197173e+10 -5.31286240e+10             nan\n",
      "             nan             nan -5.29040948e+10 -5.29197173e+10\n",
      " -5.31286240e+10             nan             nan             nan\n",
      " -5.29040948e+10 -5.29197173e+10 -5.31286240e+10             nan\n",
      "             nan             nan -5.29041915e+10 -5.29218786e+10\n",
      " -5.29242322e+10             nan             nan             nan\n",
      " -5.29041915e+10 -5.29218786e+10 -5.29242322e+10             nan\n",
      "             nan             nan -5.29041915e+10 -5.29218786e+10\n",
      " -5.29242322e+10             nan             nan             nan\n",
      " -5.29040948e+10 -5.29197173e+10 -5.31286240e+10             nan\n",
      "             nan             nan -5.29040948e+10 -5.29197173e+10\n",
      " -5.31286240e+10             nan             nan             nan\n",
      " -5.29040948e+10 -5.29197173e+10 -5.31286240e+10             nan\n",
      "             nan             nan -5.29041915e+10 -5.29218786e+10\n",
      " -5.29242322e+10             nan             nan             nan\n",
      " -5.29041915e+10 -5.29218786e+10 -5.29242322e+10             nan\n",
      "             nan             nan -5.29041915e+10 -5.29218786e+10\n",
      " -5.29242322e+10             nan             nan             nan\n",
      " -5.29040948e+10 -5.29197173e+10 -5.31286240e+10             nan\n",
      "             nan             nan -5.29040948e+10 -5.29197173e+10\n",
      " -5.31286240e+10             nan             nan             nan\n",
      " -5.29040948e+10 -5.29197173e+10 -5.31286240e+10             nan\n",
      "             nan             nan -5.29041915e+10 -5.29218786e+10\n",
      " -5.29242322e+10             nan             nan             nan\n",
      " -5.29041915e+10 -5.29218786e+10 -5.29242322e+10             nan\n",
      "             nan             nan -5.29041915e+10 -5.29218786e+10\n",
      " -5.29242322e+10             nan             nan             nan]\n",
      "  warnings.warn(\n"
     ]
    },
    {
     "data": {
      "text/plain": [
       "-88005411160.06898"
      ]
     },
     "execution_count": 29,
     "metadata": {},
     "output_type": "execute_result"
    }
   ],
   "source": [
    "km_clf_puro.fit(X_train_nocontrov,y_train_ryg)\n",
    "km_clf_sincontr=km_clf_puro.best_estimator_\n",
    "print(km_clf_sincontr.score(X_train_nocontrov,y_train_ryg))\n",
    "km_clf_sincontr.score(X_test_nocontrov,y_test_ryg)"
   ]
  },
  {
   "cell_type": "markdown",
   "metadata": {},
   "source": [
    "Hagamos lo mismo, pero con los datos no controversiales con oversampling."
   ]
  },
  {
   "cell_type": "code",
   "execution_count": 42,
   "metadata": {},
   "outputs": [],
   "source": [
    "import pickle \n",
    "tree_clf_puro = pickle.load(open('../models/untrained/untrained_model_tree_cfl.pkl', 'rb'))\n",
    "forest_clf_puro= pickle.load(open('../models/untrained/untrained_model_forest_cfl.pkl', 'rb'))\n",
    "reglog_clf_puro = pickle.load(open('../models/untrained/untrained_model_reglog_cfl.pkl', 'rb'))\n",
    "svc_clf_puro = pickle.load(open('../models/untrained/untrained_model_svc_cfl.pkl', 'rb'))\n",
    "knn_clf_puro = pickle.load(open('../models/untrained/untrained_model_knn_cfl.pkl', 'rb'))\n",
    "km_clf_puro= pickle.load(open('../models/untrained/untrained_model_km_cfl.pkl', 'rb'))"
   ]
  },
  {
   "cell_type": "code",
   "execution_count": 43,
   "metadata": {},
   "outputs": [
    {
     "name": "stdout",
     "output_type": "stream",
     "text": [
      "0.790783815174059\n"
     ]
    },
    {
     "data": {
      "text/plain": [
       "0.7922591581128167"
      ]
     },
     "execution_count": 43,
     "metadata": {},
     "output_type": "execute_result"
    }
   ],
   "source": [
    "tree_clf_puro.fit(X_train_ros_nocontrov,y_train_ros)\n",
    "tree_clf_sincontr=tree_clf_puro.best_estimator_\n",
    "print(tree_clf_sincontr.score(X_train_ros_nocontrov,y_train_ros))\n",
    "tree_clf_sincontr.score(X_test_ros_nocontrov,y_test_ros)"
   ]
  },
  {
   "cell_type": "code",
   "execution_count": 44,
   "metadata": {},
   "outputs": [
    {
     "name": "stdout",
     "output_type": "stream",
     "text": [
      "0.7765640204664594\n"
     ]
    },
    {
     "data": {
      "text/plain": [
       "0.7760617760617761"
      ]
     },
     "execution_count": 44,
     "metadata": {},
     "output_type": "execute_result"
    }
   ],
   "source": [
    "forest_clf_puro.fit(X_train_ros_nocontrov,y_train_ros)\n",
    "forest_clf_sincontr=forest_clf_puro.best_estimator_\n",
    "print(forest_clf_sincontr.score(X_train_ros_nocontrov,y_train_ros))\n",
    "forest_clf_sincontr.score(X_test_ros_nocontrov,y_test_ros)"
   ]
  },
  {
   "cell_type": "code",
   "execution_count": 45,
   "metadata": {},
   "outputs": [
    {
     "name": "stderr",
     "output_type": "stream",
     "text": [
      "c:\\Users\\traba\\Desktop\\Competiciones Kaggle\\.conda\\lib\\site-packages\\sklearn\\linear_model\\_logistic.py:1197: UserWarning: l1_ratio parameter is only used when penalty is 'elasticnet'. Got (penalty=l2)\n",
      "  warnings.warn(\n",
      "c:\\Users\\traba\\Desktop\\Competiciones Kaggle\\.conda\\lib\\site-packages\\sklearn\\linear_model\\_logistic.py:1247: FutureWarning: 'multi_class' was deprecated in version 1.5 and will be removed in 1.7. From then on, it will always use 'multinomial'. Leave it to its default value to avoid this warning.\n",
      "  warnings.warn(\n",
      "c:\\Users\\traba\\Desktop\\Competiciones Kaggle\\.conda\\lib\\site-packages\\sklearn\\linear_model\\_logistic.py:1197: UserWarning: l1_ratio parameter is only used when penalty is 'elasticnet'. Got (penalty=l2)\n",
      "  warnings.warn(\n",
      "c:\\Users\\traba\\Desktop\\Competiciones Kaggle\\.conda\\lib\\site-packages\\sklearn\\linear_model\\_logistic.py:1247: FutureWarning: 'multi_class' was deprecated in version 1.5 and will be removed in 1.7. From then on, it will always use 'multinomial'. Leave it to its default value to avoid this warning.\n",
      "  warnings.warn(\n",
      "c:\\Users\\traba\\Desktop\\Competiciones Kaggle\\.conda\\lib\\site-packages\\sklearn\\linear_model\\_logistic.py:1197: UserWarning: l1_ratio parameter is only used when penalty is 'elasticnet'. Got (penalty=l2)\n",
      "  warnings.warn(\n",
      "c:\\Users\\traba\\Desktop\\Competiciones Kaggle\\.conda\\lib\\site-packages\\sklearn\\linear_model\\_logistic.py:1247: FutureWarning: 'multi_class' was deprecated in version 1.5 and will be removed in 1.7. From then on, it will always use 'multinomial'. Leave it to its default value to avoid this warning.\n",
      "  warnings.warn(\n",
      "c:\\Users\\traba\\Desktop\\Competiciones Kaggle\\.conda\\lib\\site-packages\\sklearn\\linear_model\\_logistic.py:1197: UserWarning: l1_ratio parameter is only used when penalty is 'elasticnet'. Got (penalty=l2)\n",
      "  warnings.warn(\n",
      "c:\\Users\\traba\\Desktop\\Competiciones Kaggle\\.conda\\lib\\site-packages\\sklearn\\linear_model\\_logistic.py:1247: FutureWarning: 'multi_class' was deprecated in version 1.5 and will be removed in 1.7. From then on, it will always use 'multinomial'. Leave it to its default value to avoid this warning.\n",
      "  warnings.warn(\n",
      "c:\\Users\\traba\\Desktop\\Competiciones Kaggle\\.conda\\lib\\site-packages\\sklearn\\linear_model\\_logistic.py:1197: UserWarning: l1_ratio parameter is only used when penalty is 'elasticnet'. Got (penalty=l2)\n",
      "  warnings.warn(\n",
      "c:\\Users\\traba\\Desktop\\Competiciones Kaggle\\.conda\\lib\\site-packages\\sklearn\\linear_model\\_logistic.py:1247: FutureWarning: 'multi_class' was deprecated in version 1.5 and will be removed in 1.7. From then on, it will always use 'multinomial'. Leave it to its default value to avoid this warning.\n",
      "  warnings.warn(\n",
      "c:\\Users\\traba\\Desktop\\Competiciones Kaggle\\.conda\\lib\\site-packages\\sklearn\\linear_model\\_logistic.py:1197: UserWarning: l1_ratio parameter is only used when penalty is 'elasticnet'. Got (penalty=l2)\n",
      "  warnings.warn(\n",
      "c:\\Users\\traba\\Desktop\\Competiciones Kaggle\\.conda\\lib\\site-packages\\sklearn\\linear_model\\_logistic.py:1247: FutureWarning: 'multi_class' was deprecated in version 1.5 and will be removed in 1.7. From then on, it will always use 'multinomial'. Leave it to its default value to avoid this warning.\n",
      "  warnings.warn(\n"
     ]
    },
    {
     "name": "stdout",
     "output_type": "stream",
     "text": [
      "0.7974071632608218\n"
     ]
    },
    {
     "data": {
      "text/plain": [
       "0.7973443827102363"
      ]
     },
     "execution_count": 45,
     "metadata": {},
     "output_type": "execute_result"
    }
   ],
   "source": [
    "reglog_clf_puro.fit(X_train_ros_nocontrov,y_train_ros)\n",
    "reglog_clf_sincontr=reglog_clf_puro.best_estimator_\n",
    "print(reglog_clf_sincontr.score(X_train_ros_nocontrov,y_train_ros))\n",
    "reglog_clf_sincontr.score(X_test_ros_nocontrov,y_test_ros)"
   ]
  },
  {
   "cell_type": "code",
   "execution_count": 48,
   "metadata": {},
   "outputs": [
    {
     "name": "stderr",
     "output_type": "stream",
     "text": [
      "c:\\Users\\traba\\Desktop\\Competiciones Kaggle\\.conda\\lib\\site-packages\\sklearn\\svm\\_base.py:297: ConvergenceWarning: Solver terminated early (max_iter=15).  Consider pre-processing your data with StandardScaler or MinMaxScaler.\n",
      "  warnings.warn(\n",
      "c:\\Users\\traba\\Desktop\\Competiciones Kaggle\\.conda\\lib\\site-packages\\sklearn\\svm\\_base.py:297: ConvergenceWarning: Solver terminated early (max_iter=15).  Consider pre-processing your data with StandardScaler or MinMaxScaler.\n",
      "  warnings.warn(\n",
      "c:\\Users\\traba\\Desktop\\Competiciones Kaggle\\.conda\\lib\\site-packages\\sklearn\\svm\\_base.py:297: ConvergenceWarning: Solver terminated early (max_iter=15).  Consider pre-processing your data with StandardScaler or MinMaxScaler.\n",
      "  warnings.warn(\n",
      "c:\\Users\\traba\\Desktop\\Competiciones Kaggle\\.conda\\lib\\site-packages\\sklearn\\svm\\_base.py:297: ConvergenceWarning: Solver terminated early (max_iter=15).  Consider pre-processing your data with StandardScaler or MinMaxScaler.\n",
      "  warnings.warn(\n",
      "c:\\Users\\traba\\Desktop\\Competiciones Kaggle\\.conda\\lib\\site-packages\\sklearn\\svm\\_base.py:297: ConvergenceWarning: Solver terminated early (max_iter=15).  Consider pre-processing your data with StandardScaler or MinMaxScaler.\n",
      "  warnings.warn(\n",
      "c:\\Users\\traba\\Desktop\\Competiciones Kaggle\\.conda\\lib\\site-packages\\sklearn\\svm\\_base.py:297: ConvergenceWarning: Solver terminated early (max_iter=15).  Consider pre-processing your data with StandardScaler or MinMaxScaler.\n",
      "  warnings.warn(\n"
     ]
    }
   ],
   "source": [
    "svc_clf_puro.fit(X_train_ros_nocontrov,y_train_ros)\n",
    "svc_clf_sincontr=svc_clf_puro.best_estimator_"
   ]
  },
  {
   "cell_type": "code",
   "execution_count": 49,
   "metadata": {},
   "outputs": [
    {
     "name": "stdout",
     "output_type": "stream",
     "text": [
      "0.5039080892739429\n"
     ]
    },
    {
     "data": {
      "text/plain": [
       "0.4991995479800358"
      ]
     },
     "execution_count": 49,
     "metadata": {},
     "output_type": "execute_result"
    }
   ],
   "source": [
    "print(svc_clf_sincontr.score(X_train_ros_nocontrov,y_train_ros))\n",
    "svc_clf_sincontr.score(X_test_ros_nocontrov,y_test_ros)"
   ]
  },
  {
   "cell_type": "code",
   "execution_count": 50,
   "metadata": {},
   "outputs": [
    {
     "name": "stdout",
     "output_type": "stream",
     "text": [
      "1.0\n"
     ]
    },
    {
     "data": {
      "text/plain": [
       "0.9779640267445145"
      ]
     },
     "execution_count": 50,
     "metadata": {},
     "output_type": "execute_result"
    }
   ],
   "source": [
    "knn_clf_puro.fit(X_train_ros_nocontrov,y_train_ros)\n",
    "knn_clf_sincontr=knn_clf_puro.best_estimator_\n",
    "print(knn_clf_sincontr.score(X_train_ros_nocontrov,y_train_ros))\n",
    "knn_clf_sincontr.score(X_test_ros_nocontrov,y_test_ros)"
   ]
  },
  {
   "cell_type": "code",
   "execution_count": 51,
   "metadata": {},
   "outputs": [
    {
     "name": "stdout",
     "output_type": "stream",
     "text": [
      "-492934505824.7763\n"
     ]
    },
    {
     "name": "stderr",
     "output_type": "stream",
     "text": [
      "c:\\Users\\traba\\Desktop\\Competiciones Kaggle\\.conda\\lib\\site-packages\\sklearn\\model_selection\\_validation.py:540: FitFailedWarning: \n",
      "360 fits failed out of a total of 720.\n",
      "The score on these train-test partitions for these parameters will be set to nan.\n",
      "If these failures are not expected, you can try to debug them by setting error_score='raise'.\n",
      "\n",
      "Below are more details about the failures:\n",
      "--------------------------------------------------------------------------------\n",
      "360 fits failed with the following error:\n",
      "Traceback (most recent call last):\n",
      "  File \"c:\\Users\\traba\\Desktop\\Competiciones Kaggle\\.conda\\lib\\site-packages\\sklearn\\model_selection\\_validation.py\", line 888, in _fit_and_score\n",
      "    estimator.fit(X_train, y_train, **fit_params)\n",
      "  File \"c:\\Users\\traba\\Desktop\\Competiciones Kaggle\\.conda\\lib\\site-packages\\sklearn\\base.py\", line 1466, in wrapper\n",
      "    estimator._validate_params()\n",
      "  File \"c:\\Users\\traba\\Desktop\\Competiciones Kaggle\\.conda\\lib\\site-packages\\sklearn\\base.py\", line 666, in _validate_params\n",
      "    validate_parameter_constraints(\n",
      "  File \"c:\\Users\\traba\\Desktop\\Competiciones Kaggle\\.conda\\lib\\site-packages\\sklearn\\utils\\_param_validation.py\", line 95, in validate_parameter_constraints\n",
      "    raise InvalidParameterError(\n",
      "sklearn.utils._param_validation.InvalidParameterError: The 'n_init' parameter of KMeans must be a str among {'auto'} or an int in the range [1, inf). Got 'random' instead.\n",
      "\n",
      "  warnings.warn(some_fits_failed_message, FitFailedWarning)\n",
      "c:\\Users\\traba\\Desktop\\Competiciones Kaggle\\.conda\\lib\\site-packages\\sklearn\\model_selection\\_search.py:1052: UserWarning: One or more of the test scores are non-finite: [-9.86027736e+10 -9.86093773e+10 -9.89770851e+10             nan\n",
      "             nan             nan -9.86027736e+10 -9.86093773e+10\n",
      " -9.89770851e+10             nan             nan             nan\n",
      " -9.86027736e+10 -9.86093773e+10 -9.89770851e+10             nan\n",
      "             nan             nan -9.86036309e+10 -9.86057942e+10\n",
      " -9.86531834e+10             nan             nan             nan\n",
      " -9.86036309e+10 -9.86057942e+10 -9.86531834e+10             nan\n",
      "             nan             nan -9.86036309e+10 -9.86057942e+10\n",
      " -9.86531834e+10             nan             nan             nan\n",
      " -9.86027736e+10 -9.86093773e+10 -9.89770851e+10             nan\n",
      "             nan             nan -9.86027736e+10 -9.86093773e+10\n",
      " -9.89770851e+10             nan             nan             nan\n",
      " -9.86027736e+10 -9.86093773e+10 -9.89770851e+10             nan\n",
      "             nan             nan -9.86036309e+10 -9.86057942e+10\n",
      " -9.86531834e+10             nan             nan             nan\n",
      " -9.86036309e+10 -9.86057942e+10 -9.86531834e+10             nan\n",
      "             nan             nan -9.86036309e+10 -9.86057942e+10\n",
      " -9.86531834e+10             nan             nan             nan\n",
      " -9.86027736e+10 -9.86093773e+10 -9.89770851e+10             nan\n",
      "             nan             nan -9.86027736e+10 -9.86093773e+10\n",
      " -9.89770851e+10             nan             nan             nan\n",
      " -9.86027736e+10 -9.86093773e+10 -9.89770851e+10             nan\n",
      "             nan             nan -9.86036309e+10 -9.86057942e+10\n",
      " -9.86531834e+10             nan             nan             nan\n",
      " -9.86036309e+10 -9.86057942e+10 -9.86531834e+10             nan\n",
      "             nan             nan -9.86036309e+10 -9.86057942e+10\n",
      " -9.86531834e+10             nan             nan             nan\n",
      " -9.86027736e+10 -9.86093773e+10 -9.89770851e+10             nan\n",
      "             nan             nan -9.86027736e+10 -9.86093773e+10\n",
      " -9.89770851e+10             nan             nan             nan\n",
      " -9.86027736e+10 -9.86093773e+10 -9.89770851e+10             nan\n",
      "             nan             nan -9.86036309e+10 -9.86057942e+10\n",
      " -9.86531834e+10             nan             nan             nan\n",
      " -9.86036309e+10 -9.86057942e+10 -9.86531834e+10             nan\n",
      "             nan             nan -9.86036309e+10 -9.86057942e+10\n",
      " -9.86531834e+10             nan             nan             nan]\n",
      "  warnings.warn(\n"
     ]
    },
    {
     "data": {
      "text/plain": [
       "-164980259248.7169"
      ]
     },
     "execution_count": 51,
     "metadata": {},
     "output_type": "execute_result"
    }
   ],
   "source": [
    "km_clf_puro.fit(X_train_ros_nocontrov,y_train_ros)\n",
    "km_clf_sincontr=km_clf_puro.best_estimator_\n",
    "print(km_clf_sincontr.score(X_train_ros_nocontrov,y_train_ros))\n",
    "km_clf_sincontr.score(X_test_ros_nocontrov,y_test_ros)"
   ]
  },
  {
   "cell_type": "markdown",
   "metadata": {},
   "source": [
    "Guardemos estos modelos:"
   ]
  },
  {
   "cell_type": "code",
   "execution_count": 62,
   "metadata": {},
   "outputs": [],
   "source": [
    "with open(f'trained_model_tree_cfl_w_data_no_controv.pkl',\"wb\") as archivo_salida:\n",
    "        pickle.dump(tree_clf_puro, archivo_salida)\n",
    "with open(f'untrained_model_forest_cfl_w_data_no_controv.pkl',\"wb\") as archivo_salida:\n",
    "        pickle.dump(forest_clf_puro, archivo_salida)\n",
    "with open(f'untrained_model_reglog_cfl_w_data_no_controv.pkl',\"wb\") as archivo_salida:\n",
    "        pickle.dump(reglog_clf_puro, archivo_salida)\n",
    "with open(f'untrained_model_svc_cfl_w_data_no_controv.pkl',\"wb\") as archivo_salida:\n",
    "        pickle.dump(svc_clf_puro, archivo_salida)\n",
    "with open(f'untrained_model_knn_cfl_w_data_no_controv.pkl',\"wb\") as archivo_salida:\n",
    "        pickle.dump(knn_clf_puro, archivo_salida)\n",
    "with open(f'untrained_model_km_cfl_w_data_no_controv.pkl',\"wb\") as archivo_salida:\n",
    "        pickle.dump(km_clf_puro, archivo_salida)"
   ]
  },
  {
   "cell_type": "code",
   "execution_count": 55,
   "metadata": {},
   "outputs": [],
   "source": [
    "predicciones_tree_nocontr=tree_clf_sincontr.predict(X_test_nocontrov)\n",
    "predicciones_forest_nocontr=forest_clf_sincontr.predict(X_test_nocontrov)\n",
    "predicciones_reglog_nocontr=reglog_clf_sincontr.predict(X_test_ros_nocontrov)\n",
    "predicciones_svc_nocontr=svc_clf_sincontr.predict(X_test_ros_nocontrov)\n",
    "predicciones_knn_nocontr=knn_clf_sincontr.predict(X_test_ros_nocontrov)\n",
    "predicciones_km_nocontr=km_clf_sincontr.predict(X_test_ros_nocontrov)"
   ]
  },
  {
   "cell_type": "markdown",
   "metadata": {},
   "source": [
    "1. Modelo Tree"
   ]
  },
  {
   "cell_type": "code",
   "execution_count": 56,
   "metadata": {},
   "outputs": [
    {
     "name": "stdout",
     "output_type": "stream",
     "text": [
      "AUC: 0.7781149589432346\n",
      "F1-Score:0.8694190566235949\n",
      "Precision Score: 0.7767974469682748\n",
      "Recall Score: 0.987118320610687\n",
      "ROC-AUC Score: 0.5719279546315846\n",
      "ROC: (array([0.        , 0.84326241, 1.        ]), array([0.        , 0.98711832, 1.        ]), array([inf,  1.,  0.]))\n",
      "Precision Recall: (array([0.74830418, 0.77679745, 1.        ]), array([1.        , 0.98711832, 0.        ]), array([0, 1], dtype=int64))\n",
      "Specifity: 0.15673758865248227\n"
     ]
    }
   ],
   "source": [
    "print(f\"AUC: \"+str(accuracy_score(predicciones_tree_nocontr,y_test_ryg)))\n",
    "print(f\"F1-Score:\"+str(f1_score(predicciones_tree_nocontr,y_test_ryg)))\n",
    "print(f\"Precision Score: \"+str(precision_score(predicciones_tree_nocontr,y_test_ryg)))\n",
    "print(f\"Recall Score: \"+str(recall_score(predicciones_tree_nocontr,y_test_ryg)))\n",
    "print(f\"ROC-AUC Score: \"+str(roc_auc_score(predicciones_tree_nocontr,y_test_ryg)))\n",
    "print(f\"ROC: \"+str(roc_curve(predicciones_tree_nocontr,y_test_ryg)))\n",
    "print(f\"Precision Recall: \"+str(precision_recall_curve(predicciones_tree_nocontr,y_test_ryg)))\n",
    "print(f\"Specifity: \"+str(recall_score(predicciones_tree_nocontr,y_test_ryg,pos_label=0)))"
   ]
  },
  {
   "cell_type": "markdown",
   "metadata": {},
   "source": [
    "2. Modelo Forest"
   ]
  },
  {
   "cell_type": "code",
   "execution_count": 57,
   "metadata": {},
   "outputs": [
    {
     "name": "stdout",
     "output_type": "stream",
     "text": [
      "AUC: 0.7629418064976794\n",
      "F1-Score:0.8595006347862886\n",
      "Precision Score: 0.7625305049746574\n",
      "Recall Score: 0.9847272727272727\n",
      "ROC-AUC Score: 0.5641307318274142\n",
      "ROC: (array([0.        , 0.85646581, 1.        ]), array([0.        , 0.98472727, 1.        ]), array([inf,  1.,  0.]))\n",
      "Precision Recall: (array([0.73634416, 0.7625305 , 1.        ]), array([1.        , 0.98472727, 0.        ]), array([0, 1], dtype=int64))\n",
      "Specifity: 0.14353419092755584\n"
     ]
    }
   ],
   "source": [
    "print(f\"AUC: \"+str(accuracy_score(predicciones_forest_nocontr,y_test_ryg)))\n",
    "print(f\"F1-Score:\"+str(f1_score(predicciones_forest_nocontr,y_test_ryg)))\n",
    "print(f\"Precision Score: \"+str(precision_score(predicciones_forest_nocontr,y_test_ryg)))\n",
    "print(f\"Recall Score: \"+str(recall_score(predicciones_forest_nocontr,y_test_ryg)))\n",
    "print(f\"ROC-AUC Score: \"+str(roc_auc_score(predicciones_forest_nocontr,y_test_ryg)))\n",
    "print(f\"ROC: \"+str(roc_curve(predicciones_forest_nocontr,y_test_ryg)))\n",
    "print(f\"Precision Recall: \"+str(precision_recall_curve(predicciones_forest_nocontr,y_test_ryg)))\n",
    "print(f\"Specifity: \"+str(recall_score(predicciones_forest_nocontr,y_test_ryg,pos_label=0)))"
   ]
  },
  {
   "cell_type": "markdown",
   "metadata": {},
   "source": [
    "3. Modelo Reg. Log."
   ]
  },
  {
   "cell_type": "code",
   "execution_count": 58,
   "metadata": {},
   "outputs": [
    {
     "name": "stdout",
     "output_type": "stream",
     "text": [
      "AUC: 0.7973443827102363\n",
      "F1-Score:0.795047619047619\n",
      "Precision Score: 0.7764136904761905\n",
      "Recall Score: 0.8145979703356753\n",
      "ROC-AUC Score: 0.7979268286619232\n",
      "ROC: (array([0.        , 0.21874431, 1.        ]), array([0.        , 0.81459797, 1.        ]), array([inf,  1.,  0.]))\n",
      "Precision Recall: (array([0.48253131, 0.77641369, 1.        ]), array([1.        , 0.81459797, 0.        ]), array([0, 1], dtype=int64))\n",
      "Specifity: 0.781255686988171\n"
     ]
    }
   ],
   "source": [
    "print(f\"AUC: \"+str(accuracy_score(predicciones_reglog_nocontr,y_test_ros)))\n",
    "print(f\"F1-Score:\"+str(f1_score(predicciones_reglog_nocontr,y_test_ros)))\n",
    "print(f\"Precision Score: \"+str(precision_score(predicciones_reglog_nocontr,y_test_ros)))\n",
    "print(f\"Recall Score: \"+str(recall_score(predicciones_reglog_nocontr,y_test_ros)))\n",
    "print(f\"ROC-AUC Score: \"+str(roc_auc_score(predicciones_reglog_nocontr,y_test_ros)))\n",
    "print(f\"ROC: \"+str(roc_curve(predicciones_reglog_nocontr,y_test_ros)))\n",
    "print(f\"Precision Recall: \"+str(precision_recall_curve(predicciones_reglog_nocontr,y_test_ros)))\n",
    "print(f\"Specifity: \"+str(recall_score(predicciones_reglog_nocontr,y_test_ros,pos_label=0)))"
   ]
  },
  {
   "cell_type": "markdown",
   "metadata": {},
   "source": [
    "4. Modelo SVC"
   ]
  },
  {
   "cell_type": "code",
   "execution_count": 59,
   "metadata": {},
   "outputs": [
    {
     "name": "stdout",
     "output_type": "stream",
     "text": [
      "AUC: 0.4991995479800358\n",
      "F1-Score:0.4965921999242711\n",
      "Precision Score: 0.48790922619047616\n",
      "Recall Score: 0.5055898226676947\n",
      "ROC-AUC Score: 0.49934250846144823\n",
      "ROC: (array([0.        , 0.50690481, 1.        ]), array([0.        , 0.50558982, 1.        ]), array([inf,  1.,  0.]))\n",
      "Precision Recall: (array([0.48855824, 0.48790923, 1.        ]), array([1.        , 0.50558982, 0.        ]), array([0, 1], dtype=int64))\n",
      "Specifity: 0.4930951942552016\n"
     ]
    }
   ],
   "source": [
    "print(f\"AUC: \"+str(accuracy_score(predicciones_svc_nocontr,y_test_ros)))\n",
    "print(f\"F1-Score:\"+str(f1_score(predicciones_svc_nocontr,y_test_ros)))\n",
    "print(f\"Precision Score: \"+str(precision_score(predicciones_svc_nocontr,y_test_ros)))\n",
    "print(f\"Recall Score: \"+str(recall_score(predicciones_svc_nocontr,y_test_ros)))\n",
    "print(f\"ROC-AUC Score: \"+str(roc_auc_score(predicciones_svc_nocontr,y_test_ros)))\n",
    "print(f\"ROC: \"+str(roc_curve(predicciones_svc_nocontr,y_test_ros)))\n",
    "print(f\"Precision Recall: \"+str(precision_recall_curve(predicciones_svc_nocontr,y_test_ros)))\n",
    "print(f\"Specifity: \"+str(recall_score(predicciones_svc_nocontr,y_test_ros,pos_label=0)))"
   ]
  },
  {
   "cell_type": "markdown",
   "metadata": {},
   "source": [
    "5. Modelo KNN"
   ]
  },
  {
   "cell_type": "code",
   "execution_count": 60,
   "metadata": {},
   "outputs": [
    {
     "name": "stdout",
     "output_type": "stream",
     "text": [
      "AUC: 0.9779640267445145\n",
      "F1-Score:0.9777524244152881\n",
      "Precision Score: 0.9564732142857143\n",
      "Recall Score: 1.0\n",
      "ROC-AUC Score: 0.978637940478364\n",
      "ROC: (array([0.        , 0.04272412, 1.        ]), array([0., 1., 1.]), array([inf,  1.,  0.]))\n",
      "Precision Recall: (array([0.48422639, 0.95647321, 1.        ]), array([1., 1., 0.]), array([0, 1], dtype=int64))\n",
      "Specifity: 0.9572758809567281\n"
     ]
    }
   ],
   "source": [
    "print(f\"AUC: \"+str(accuracy_score(predicciones_knn_nocontr,y_test_ros)))\n",
    "print(f\"F1-Score:\"+str(f1_score(predicciones_knn_nocontr,y_test_ros)))\n",
    "print(f\"Precision Score: \"+str(precision_score(predicciones_knn_nocontr,y_test_ros)))\n",
    "print(f\"Recall Score: \"+str(recall_score(predicciones_knn_nocontr,y_test_ros)))\n",
    "print(f\"ROC-AUC Score: \"+str(roc_auc_score(predicciones_knn_nocontr,y_test_ros)))\n",
    "print(f\"ROC: \"+str(roc_curve(predicciones_knn_nocontr,y_test_ros)))\n",
    "print(f\"Precision Recall: \"+str(precision_recall_curve(predicciones_knn_nocontr,y_test_ros)))\n",
    "print(f\"Specifity: \"+str(recall_score(predicciones_knn_nocontr,y_test_ros,pos_label=0)))"
   ]
  },
  {
   "cell_type": "markdown",
   "metadata": {},
   "source": [
    "1. Modelo KMeans"
   ]
  },
  {
   "cell_type": "code",
   "execution_count": 61,
   "metadata": {},
   "outputs": [
    {
     "name": "stdout",
     "output_type": "stream",
     "text": [
      "AUC: 0.501365476975233\n",
      "F1-Score:0.5016470588235294\n",
      "Precision Score: 0.49572172619047616\n",
      "Recall Score: 0.5077157553819776\n",
      "ROC-AUC Score: 0.5014370210801881\n",
      "ROC: (array([0.        , 0.50484171, 1.        ]), array([0.        , 0.50771576, 1.        ]), array([inf,  1.,  0.]))\n",
      "Precision Recall: (array([0.49430267, 0.49572173, 1.        ]), array([1.        , 0.50771576, 0.        ]), array([0, 1], dtype=int64))\n",
      "Specifity: 0.4951582867783985\n"
     ]
    }
   ],
   "source": [
    "print(f\"AUC: \"+str(accuracy_score(predicciones_km_nocontr,y_test_ros)))\n",
    "print(f\"F1-Score:\"+str(f1_score(predicciones_km_nocontr,y_test_ros)))\n",
    "print(f\"Precision Score: \"+str(precision_score(predicciones_km_nocontr,y_test_ros)))\n",
    "print(f\"Recall Score: \"+str(recall_score(predicciones_km_nocontr,y_test_ros)))\n",
    "print(f\"ROC-AUC Score: \"+str(roc_auc_score(predicciones_km_nocontr,y_test_ros)))\n",
    "print(f\"ROC: \"+str(roc_curve(predicciones_km_nocontr,y_test_ros)))\n",
    "print(f\"Precision Recall: \"+str(precision_recall_curve(predicciones_km_nocontr,y_test_ros)))\n",
    "print(f\"Specifity: \"+str(recall_score(predicciones_km_nocontr,y_test_ros,pos_label=0)))"
   ]
  },
  {
   "cell_type": "markdown",
   "metadata": {},
   "source": [
    "Todo indica que el modelo KNN, con ambos conjuntos de datos, es el que mejor predice. Aunque los de Reg. Log., Tree y Forest también lo hacen bastante bien."
   ]
  }
 ],
 "metadata": {
  "kernelspec": {
   "display_name": "Python 3",
   "language": "python",
   "name": "python3"
  },
  "language_info": {
   "codemirror_mode": {
    "name": "ipython",
    "version": 3
   },
   "file_extension": ".py",
   "mimetype": "text/x-python",
   "name": "python",
   "nbconvert_exporter": "python",
   "pygments_lexer": "ipython3",
   "version": "3.10.14"
  }
 },
 "nbformat": 4,
 "nbformat_minor": 2
}
