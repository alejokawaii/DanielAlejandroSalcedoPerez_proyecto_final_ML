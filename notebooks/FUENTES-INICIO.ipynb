{
 "cells": [
  {
   "cell_type": "markdown",
   "metadata": {},
   "source": [
    "### Ejercicio: \n",
    "### Observar datos.\n",
    "\n",
    "El dataset (en formato csv) sobre personas que hicieron el examen del BAR en California en los años 90s (1991-1997) respeta los minímos de 10.000 filas y 10 columnas. \n",
    "En este dataset hay 22407 y 39 columnas. No todas no serviran, pero solo buscaremos más si fuera necesario. De lo contrario, habrá trabajo extra intentando juntar ambas en un solo dataframe."
   ]
  },
  {
   "cell_type": "code",
   "execution_count": 1,
   "metadata": {},
   "outputs": [],
   "source": [
    "import pandas as pd"
   ]
  },
  {
   "cell_type": "code",
   "execution_count": 2,
   "metadata": {},
   "outputs": [],
   "source": [
    "dataframe=pd.read_csv('../data/raw/bar_pass_prediction.csv')"
   ]
  },
  {
   "cell_type": "code",
   "execution_count": 4,
   "metadata": {},
   "outputs": [
    {
     "data": {
      "text/plain": [
       "Index(['decile1b', 'decile3', 'ID', 'decile1', 'sex', 'race', 'cluster',\n",
       "       'lsat', 'ugpa', 'zfygpa', 'DOB_yr', 'grad', 'zgpa', 'bar1', 'bar1_yr',\n",
       "       'bar2', 'bar2_yr', 'fulltime', 'fam_inc', 'age', 'gender', 'parttime',\n",
       "       'male', 'race1', 'race2', 'Dropout', 'other', 'asian', 'black', 'hisp',\n",
       "       'pass_bar', 'bar', 'bar_passed', 'tier', 'index6040', 'indxgrp',\n",
       "       'indxgrp2', 'dnn_bar_pass_prediction', 'gpa'],\n",
       "      dtype='object')"
      ]
     },
     "execution_count": 4,
     "metadata": {},
     "output_type": "execute_result"
    }
   ],
   "source": [
    "dataframe.columns"
   ]
  },
  {
   "cell_type": "code",
   "execution_count": 30,
   "metadata": {},
   "outputs": [
    {
     "name": "stdout",
     "output_type": "stream",
     "text": [
      "<class 'pandas.core.frame.DataFrame'>\n",
      "RangeIndex: 22407 entries, 0 to 22406\n",
      "Data columns (total 39 columns):\n",
      " #   Column                   Non-Null Count  Dtype  \n",
      "---  ------                   --------------  -----  \n",
      " 0   decile1b                 20803 non-null  float64\n",
      " 1   decile3                  20803 non-null  float64\n",
      " 2   ID                       22407 non-null  int64  \n",
      " 3   decile1                  21315 non-null  float64\n",
      " 4   sex                      22402 non-null  float64\n",
      " 5   race                     22391 non-null  float64\n",
      " 6   cluster                  22311 non-null  float64\n",
      " 7   lsat                     22407 non-null  float64\n",
      " 8   ugpa                     22407 non-null  float64\n",
      " 9   zfygpa                   21423 non-null  float64\n",
      " 10  DOB_yr                   22357 non-null  float64\n",
      " 11  grad                     22404 non-null  object \n",
      " 12  zgpa                     21118 non-null  float64\n",
      " 13  bar1                     22407 non-null  object \n",
      " 14  bar1_yr                  22368 non-null  float64\n",
      " 15  bar2                     22407 non-null  object \n",
      " 16  bar2_yr                  22367 non-null  float64\n",
      " 17  fulltime                 22373 non-null  float64\n",
      " 18  fam_inc                  22118 non-null  float64\n",
      " 19  age                      22318 non-null  float64\n",
      " 20  gender                   22402 non-null  object \n",
      " 21  parttime                 22373 non-null  float64\n",
      " 22  male                     22402 non-null  float64\n",
      " 23  race1                    22391 non-null  object \n",
      " 24  race2                    22391 non-null  object \n",
      " 25  Dropout                  22407 non-null  object \n",
      " 26  other                    22407 non-null  int64  \n",
      " 27  asian                    22407 non-null  int64  \n",
      " 28  black                    22407 non-null  int64  \n",
      " 29  hisp                     22407 non-null  int64  \n",
      " 30  pass_bar                 22407 non-null  int64  \n",
      " 31  bar                      22407 non-null  object \n",
      " 32  bar_passed               22407 non-null  bool   \n",
      " 33  tier                     22311 non-null  float64\n",
      " 34  index6040                22407 non-null  float64\n",
      " 35  indxgrp                  22407 non-null  object \n",
      " 36  indxgrp2                 22407 non-null  object \n",
      " 37  dnn_bar_pass_prediction  22407 non-null  float64\n",
      " 38  gpa                      22407 non-null  float64\n",
      "dtypes: bool(1), float64(22), int64(6), object(10)\n",
      "memory usage: 6.5+ MB\n"
     ]
    }
   ],
   "source": [
    "dataframe.info()"
   ]
  },
  {
   "cell_type": "code",
   "execution_count": 34,
   "metadata": {},
   "outputs": [
    {
     "data": {
      "text/plain": [
       "decile1b                   1604\n",
       "decile3                    1604\n",
       "ID                            0\n",
       "decile1                    1092\n",
       "sex                           5\n",
       "race                         16\n",
       "cluster                      96\n",
       "lsat                          0\n",
       "ugpa                          0\n",
       "zfygpa                      984\n",
       "DOB_yr                       50\n",
       "grad                          3\n",
       "zgpa                       1289\n",
       "bar1                          0\n",
       "bar1_yr                      39\n",
       "bar2                          0\n",
       "bar2_yr                      40\n",
       "fulltime                     34\n",
       "fam_inc                     289\n",
       "age                          89\n",
       "gender                        5\n",
       "parttime                     34\n",
       "male                          5\n",
       "race1                        16\n",
       "race2                        16\n",
       "Dropout                       0\n",
       "other                         0\n",
       "asian                         0\n",
       "black                         0\n",
       "hisp                          0\n",
       "pass_bar                      0\n",
       "bar                           0\n",
       "bar_passed                    0\n",
       "tier                         96\n",
       "index6040                     0\n",
       "indxgrp                       0\n",
       "indxgrp2                      0\n",
       "dnn_bar_pass_prediction       0\n",
       "gpa                           0\n",
       "dtype: int64"
      ]
     },
     "execution_count": 34,
     "metadata": {},
     "output_type": "execute_result"
    }
   ],
   "source": [
    "dataframe.isna().sum()"
   ]
  },
  {
   "cell_type": "code",
   "execution_count": 6,
   "metadata": {},
   "outputs": [
    {
     "data": {
      "text/plain": [
       "grad\n",
       "Y    22315\n",
       "X       88\n",
       "O        1\n",
       "Name: count, dtype: int64"
      ]
     },
     "execution_count": 6,
     "metadata": {},
     "output_type": "execute_result"
    }
   ],
   "source": [
    "dataframe[\"grad\"].value_counts()"
   ]
  }
 ],
 "metadata": {
  "kernelspec": {
   "display_name": "Python 3",
   "language": "python",
   "name": "python3"
  },
  "language_info": {
   "codemirror_mode": {
    "name": "ipython",
    "version": 3
   },
   "file_extension": ".py",
   "mimetype": "text/x-python",
   "name": "python",
   "nbconvert_exporter": "python",
   "pygments_lexer": "ipython3",
   "version": "3.10.14"
  }
 },
 "nbformat": 4,
 "nbformat_minor": 2
}
