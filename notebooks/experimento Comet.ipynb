{
 "cells": [
  {
   "cell_type": "code",
   "execution_count": 71,
   "metadata": {},
   "outputs": [
    {
     "data": {
      "text/plain": [
       "True"
      ]
     },
     "execution_count": 71,
     "metadata": {},
     "output_type": "execute_result"
    }
   ],
   "source": [
    "import pickle\n",
    "import pandas as pd\n",
    "import matplotlib.pyplot as plt\n",
    "import os\n",
    "from comet_ml import Experiment\n",
    "from dotenv import load_dotenv\n",
    "from sklearn.metrics import f1_score, precision_score, recall_score, confusion_matrix\n",
    "\n",
    "load_dotenv()"
   ]
  },
  {
   "cell_type": "code",
   "execution_count": null,
   "metadata": {},
   "outputs": [
    {
     "name": "stderr",
     "output_type": "stream",
     "text": [
      "\u001b[1;38;5;214mCOMET WARNING:\u001b[0m As you are running in a Jupyter environment, you will need to call `experiment.end()` when finished to ensure all metrics and code are logged before exiting.\n"
     ]
    },
    {
     "name": "stderr",
     "output_type": "stream",
     "text": [
      "\u001b[1;38;5;39mCOMET INFO:\u001b[0m Experiment is live on comet.com https://www.comet.com/alejokawaii/miproyecto/98c2c72d63644095bc76b689d8f2816a\n",
      "\n"
     ]
    },
    {
     "name": "stderr",
     "output_type": "stream",
     "text": [
      "\u001b[1;38;5;214mCOMET WARNING:\u001b[0m Unknown error exporting current conda environment\n",
      "\u001b[1;38;5;214mCOMET WARNING:\u001b[0m Unknown error retrieving Conda package as an explicit file\n",
      "\u001b[1;38;5;214mCOMET WARNING:\u001b[0m Unknown error retrieving Conda information\n"
     ]
    }
   ],
   "source": [
    "experiment = Experiment(\n",
    "  api_key=os.environ.get(\"COMET_API_KEY\"),\n",
    "  project_name=\"miproyecto\",\n",
    "  workspace=\"alejokawaii\"\n",
    ")"
   ]
  },
  {
   "cell_type": "code",
   "execution_count": 41,
   "metadata": {},
   "outputs": [],
   "source": [
    "reglog_clf_puro = pickle.load(open('../models/trained_w_data_controv/trained_model_reglog_cfl.pkl', 'rb'))"
   ]
  },
  {
   "cell_type": "code",
   "execution_count": 43,
   "metadata": {},
   "outputs": [],
   "source": [
    "X_train_ros=pd.read_csv(\"../data/train/datos_procesados_Xtrain_ros.csv\")\n",
    "X_test_ros=pd.read_csv(\"../data/test/datos_procesados_Xtest_ros.csv\")\n",
    "y_train_ros=pd.read_csv(\"../data/train/datos_procesados_ytrain_ros.csv\")\n",
    "y_test_ros=pd.read_csv(\"../data/test/datos_procesados_ytest_ros.csv\")"
   ]
  },
  {
   "cell_type": "code",
   "execution_count": 68,
   "metadata": {},
   "outputs": [
    {
     "data": {
      "text/plain": [
       "{'C': 0.1,\n",
       " 'class_weight': None,\n",
       " 'dual': False,\n",
       " 'fit_intercept': False,\n",
       " 'intercept_scaling': 0.1,\n",
       " 'l1_ratio': 0.0,\n",
       " 'max_iter': 100,\n",
       " 'multi_class': 'auto',\n",
       " 'n_jobs': None,\n",
       " 'penalty': 'l2',\n",
       " 'random_state': 22,\n",
       " 'solver': 'newton-cg',\n",
       " 'tol': 0.0001,\n",
       " 'verbose': 0,\n",
       " 'warm_start': False}"
      ]
     },
     "execution_count": 68,
     "metadata": {},
     "output_type": "execute_result"
    }
   ],
   "source": [
    "reglog_clf_puro.get_params()"
   ]
  },
  {
   "cell_type": "code",
   "execution_count": 66,
   "metadata": {},
   "outputs": [],
   "source": [
    "experiment.log_parameters(reglog_clf_puro.get_params())"
   ]
  },
  {
   "cell_type": "code",
   "execution_count": 45,
   "metadata": {},
   "outputs": [],
   "source": [
    "def evaluate(y_test_ros, y_pred):\n",
    "    return {\n",
    "        \"f1\": f1_score(y_test_ros, y_pred),\n",
    "        \"precision\": precision_score(y_test_ros, y_pred),\n",
    "        \"recall\": recall_score(y_test_ros, y_pred),\n",
    "    }"
   ]
  },
  {
   "cell_type": "code",
   "execution_count": 46,
   "metadata": {},
   "outputs": [],
   "source": [
    "y_train_pred = reglog_clf_puro.predict(X_train_ros)\n",
    "with experiment.train():\n",
    "    metrics = evaluate(y_train_ros, y_train_pred)\n",
    "    experiment.log_metrics(metrics)"
   ]
  },
  {
   "cell_type": "code",
   "execution_count": 47,
   "metadata": {},
   "outputs": [],
   "source": [
    "y_test_pred = reglog_clf_puro.predict(X_test_ros)\n",
    "with experiment.test():\n",
    "    metrics = evaluate(y_test_ros, y_test_pred)\n",
    "    experiment.log_metrics(metrics)"
   ]
  },
  {
   "cell_type": "code",
   "execution_count": 48,
   "metadata": {},
   "outputs": [
    {
     "name": "stderr",
     "output_type": "stream",
     "text": [
      "\u001b[1;38;5;39mCOMET INFO:\u001b[0m Successfully registered 'reg_log_datos_controv', version None in workspace 'alejokawaii'\n"
     ]
    }
   ],
   "source": [
    "experiment.log_model(\n",
    "    name=\"reg_log_datos_controv\",\n",
    "    file_or_folder='../models/trained_w_data_controv/trained_model_reglog_cfl.pkl',\n",
    "    metadata={\"framework\": \"sklearn\"},\n",
    ")\n",
    "experiment.register_model(\"reg_log_datos_controv\")"
   ]
  },
  {
   "cell_type": "code",
   "execution_count": 54,
   "metadata": {},
   "outputs": [],
   "source": [
    "predicciones=reglog_clf_puro.predict(X_test_ros)"
   ]
  },
  {
   "cell_type": "code",
   "execution_count": 59,
   "metadata": {},
   "outputs": [],
   "source": [
    "matrix=confusion_matrix(y_pred=predicciones,y_true=y_test_ros)"
   ]
  },
  {
   "cell_type": "code",
   "execution_count": 61,
   "metadata": {},
   "outputs": [],
   "source": [
    "experiment.log_confusion_matrix(matrix=matrix,labels=[\"0\",\"1\"])"
   ]
  },
  {
   "cell_type": "code",
   "execution_count": 69,
   "metadata": {},
   "outputs": [],
   "source": [
    "experiment.end()"
   ]
  },
  {
   "cell_type": "code",
   "execution_count": 1,
   "metadata": {},
   "outputs": [
    {
     "name": "stdout",
     "output_type": "stream",
     "text": [
      "Collecting streamlit\n",
      "  Downloading streamlit-1.38.0-py2.py3-none-any.whl.metadata (8.5 kB)\n",
      "Collecting altair<6,>=4.0 (from streamlit)\n",
      "  Downloading altair-5.4.1-py3-none-any.whl.metadata (9.4 kB)\n",
      "Requirement already satisfied: blinker<2,>=1.0.0 in c:\\users\\traba\\desktop\\competiciones kaggle\\.conda\\lib\\site-packages (from streamlit) (1.8.2)\n",
      "Requirement already satisfied: cachetools<6,>=4.0 in c:\\users\\traba\\desktop\\competiciones kaggle\\.conda\\lib\\site-packages (from streamlit) (5.5.0)\n",
      "Requirement already satisfied: click<9,>=7.0 in c:\\users\\traba\\desktop\\competiciones kaggle\\.conda\\lib\\site-packages (from streamlit) (8.1.7)\n",
      "Requirement already satisfied: numpy<3,>=1.20 in c:\\users\\traba\\desktop\\competiciones kaggle\\.conda\\lib\\site-packages (from streamlit) (1.26.4)\n",
      "Requirement already satisfied: packaging<25,>=20 in c:\\users\\traba\\desktop\\competiciones kaggle\\.conda\\lib\\site-packages (from streamlit) (24.1)\n",
      "Requirement already satisfied: pandas<3,>=1.3.0 in c:\\users\\traba\\desktop\\competiciones kaggle\\.conda\\lib\\site-packages (from streamlit) (2.2.2)\n",
      "Requirement already satisfied: pillow<11,>=7.1.0 in c:\\users\\traba\\desktop\\competiciones kaggle\\.conda\\lib\\site-packages (from streamlit) (10.4.0)\n",
      "Requirement already satisfied: protobuf<6,>=3.20 in c:\\users\\traba\\desktop\\competiciones kaggle\\.conda\\lib\\site-packages (from streamlit) (4.25.3)\n",
      "Requirement already satisfied: pyarrow>=7.0 in c:\\users\\traba\\desktop\\competiciones kaggle\\.conda\\lib\\site-packages (from streamlit) (17.0.0)\n",
      "Requirement already satisfied: requests<3,>=2.27 in c:\\users\\traba\\desktop\\competiciones kaggle\\.conda\\lib\\site-packages (from streamlit) (2.32.3)\n",
      "Requirement already satisfied: rich<14,>=10.14.0 in c:\\users\\traba\\desktop\\competiciones kaggle\\.conda\\lib\\site-packages (from streamlit) (13.7.1)\n",
      "Collecting tenacity<9,>=8.1.0 (from streamlit)\n",
      "  Downloading tenacity-8.5.0-py3-none-any.whl.metadata (1.2 kB)\n",
      "Collecting toml<2,>=0.10.1 (from streamlit)\n",
      "  Downloading toml-0.10.2-py2.py3-none-any.whl.metadata (7.1 kB)\n",
      "Requirement already satisfied: typing-extensions<5,>=4.3.0 in c:\\users\\traba\\desktop\\competiciones kaggle\\.conda\\lib\\site-packages (from streamlit) (4.12.2)\n",
      "Requirement already satisfied: gitpython!=3.1.19,<4,>=3.0.7 in c:\\users\\traba\\desktop\\competiciones kaggle\\.conda\\lib\\site-packages (from streamlit) (3.1.43)\n",
      "Collecting pydeck<1,>=0.8.0b4 (from streamlit)\n",
      "  Downloading pydeck-0.9.1-py2.py3-none-any.whl.metadata (4.1 kB)\n",
      "Requirement already satisfied: tornado<7,>=6.0.3 in c:\\users\\traba\\desktop\\competiciones kaggle\\.conda\\lib\\site-packages (from streamlit) (6.4.1)\n",
      "Collecting watchdog<5,>=2.1.5 (from streamlit)\n",
      "  Downloading watchdog-4.0.2-py3-none-win_amd64.whl.metadata (38 kB)\n",
      "Requirement already satisfied: jinja2 in c:\\users\\traba\\desktop\\competiciones kaggle\\.conda\\lib\\site-packages (from altair<6,>=4.0->streamlit) (3.1.4)\n",
      "Requirement already satisfied: jsonschema>=3.0 in c:\\users\\traba\\desktop\\competiciones kaggle\\.conda\\lib\\site-packages (from altair<6,>=4.0->streamlit) (4.23.0)\n",
      "Collecting narwhals>=1.5.2 (from altair<6,>=4.0->streamlit)\n",
      "  Downloading narwhals-1.6.2-py3-none-any.whl.metadata (5.8 kB)\n",
      "Requirement already satisfied: colorama in c:\\users\\traba\\desktop\\competiciones kaggle\\.conda\\lib\\site-packages (from click<9,>=7.0->streamlit) (0.4.6)\n",
      "Requirement already satisfied: gitdb<5,>=4.0.1 in c:\\users\\traba\\desktop\\competiciones kaggle\\.conda\\lib\\site-packages (from gitpython!=3.1.19,<4,>=3.0.7->streamlit) (4.0.11)\n",
      "Requirement already satisfied: python-dateutil>=2.8.2 in c:\\users\\traba\\desktop\\competiciones kaggle\\.conda\\lib\\site-packages (from pandas<3,>=1.3.0->streamlit) (2.9.0)\n",
      "Requirement already satisfied: pytz>=2020.1 in c:\\users\\traba\\desktop\\competiciones kaggle\\.conda\\lib\\site-packages (from pandas<3,>=1.3.0->streamlit) (2024.1)\n",
      "Requirement already satisfied: tzdata>=2022.7 in c:\\users\\traba\\desktop\\competiciones kaggle\\.conda\\lib\\site-packages (from pandas<3,>=1.3.0->streamlit) (2024.1)\n",
      "Requirement already satisfied: charset-normalizer<4,>=2 in c:\\users\\traba\\desktop\\competiciones kaggle\\.conda\\lib\\site-packages (from requests<3,>=2.27->streamlit) (3.3.2)\n",
      "Requirement already satisfied: idna<4,>=2.5 in c:\\users\\traba\\desktop\\competiciones kaggle\\.conda\\lib\\site-packages (from requests<3,>=2.27->streamlit) (3.7)\n",
      "Requirement already satisfied: urllib3<3,>=1.21.1 in c:\\users\\traba\\desktop\\competiciones kaggle\\.conda\\lib\\site-packages (from requests<3,>=2.27->streamlit) (2.2.2)\n",
      "Requirement already satisfied: certifi>=2017.4.17 in c:\\users\\traba\\desktop\\competiciones kaggle\\.conda\\lib\\site-packages (from requests<3,>=2.27->streamlit) (2024.7.4)\n",
      "Requirement already satisfied: markdown-it-py>=2.2.0 in c:\\users\\traba\\desktop\\competiciones kaggle\\.conda\\lib\\site-packages (from rich<14,>=10.14.0->streamlit) (3.0.0)\n",
      "Requirement already satisfied: pygments<3.0.0,>=2.13.0 in c:\\users\\traba\\desktop\\competiciones kaggle\\.conda\\lib\\site-packages (from rich<14,>=10.14.0->streamlit) (2.18.0)\n",
      "Requirement already satisfied: smmap<6,>=3.0.1 in c:\\users\\traba\\desktop\\competiciones kaggle\\.conda\\lib\\site-packages (from gitdb<5,>=4.0.1->gitpython!=3.1.19,<4,>=3.0.7->streamlit) (5.0.1)\n",
      "Requirement already satisfied: MarkupSafe>=2.0 in c:\\users\\traba\\desktop\\competiciones kaggle\\.conda\\lib\\site-packages (from jinja2->altair<6,>=4.0->streamlit) (2.1.5)\n",
      "Requirement already satisfied: attrs>=22.2.0 in c:\\users\\traba\\desktop\\competiciones kaggle\\.conda\\lib\\site-packages (from jsonschema>=3.0->altair<6,>=4.0->streamlit) (24.2.0)\n",
      "Requirement already satisfied: jsonschema-specifications>=2023.03.6 in c:\\users\\traba\\desktop\\competiciones kaggle\\.conda\\lib\\site-packages (from jsonschema>=3.0->altair<6,>=4.0->streamlit) (2023.12.1)\n",
      "Requirement already satisfied: referencing>=0.28.4 in c:\\users\\traba\\desktop\\competiciones kaggle\\.conda\\lib\\site-packages (from jsonschema>=3.0->altair<6,>=4.0->streamlit) (0.35.1)\n",
      "Requirement already satisfied: rpds-py>=0.7.1 in c:\\users\\traba\\desktop\\competiciones kaggle\\.conda\\lib\\site-packages (from jsonschema>=3.0->altair<6,>=4.0->streamlit) (0.20.0)\n",
      "Requirement already satisfied: mdurl~=0.1 in c:\\users\\traba\\desktop\\competiciones kaggle\\.conda\\lib\\site-packages (from markdown-it-py>=2.2.0->rich<14,>=10.14.0->streamlit) (0.1.2)\n",
      "Requirement already satisfied: six>=1.5 in c:\\users\\traba\\desktop\\competiciones kaggle\\.conda\\lib\\site-packages (from python-dateutil>=2.8.2->pandas<3,>=1.3.0->streamlit) (1.16.0)\n",
      "Downloading streamlit-1.38.0-py2.py3-none-any.whl (8.7 MB)\n",
      "   ---------------------------------------- 0.0/8.7 MB ? eta -:--:--\n",
      "   ---------------------------------------- 0.1/8.7 MB 2.0 MB/s eta 0:00:05\n",
      "    --------------------------------------- 0.1/8.7 MB 2.4 MB/s eta 0:00:04\n",
      "   - -------------------------------------- 0.3/8.7 MB 2.1 MB/s eta 0:00:04\n",
      "   -- ------------------------------------- 0.5/8.7 MB 2.5 MB/s eta 0:00:04\n",
      "   -- ------------------------------------- 0.6/8.7 MB 2.7 MB/s eta 0:00:03\n",
      "   --- ------------------------------------ 0.7/8.7 MB 2.7 MB/s eta 0:00:03\n",
      "   --- ------------------------------------ 0.8/8.7 MB 2.5 MB/s eta 0:00:04\n",
      "   ---- ----------------------------------- 1.0/8.7 MB 2.6 MB/s eta 0:00:04\n",
      "   ---- ----------------------------------- 1.0/8.7 MB 2.5 MB/s eta 0:00:04\n",
      "   ----- ---------------------------------- 1.1/8.7 MB 2.4 MB/s eta 0:00:04\n",
      "   ----- ---------------------------------- 1.3/8.7 MB 2.4 MB/s eta 0:00:04\n",
      "   ------ --------------------------------- 1.4/8.7 MB 2.5 MB/s eta 0:00:03\n",
      "   ------ --------------------------------- 1.4/8.7 MB 2.5 MB/s eta 0:00:03\n",
      "   ------- -------------------------------- 1.6/8.7 MB 2.5 MB/s eta 0:00:03\n",
      "   ------- -------------------------------- 1.7/8.7 MB 2.5 MB/s eta 0:00:03\n",
      "   -------- ------------------------------- 1.8/8.7 MB 2.4 MB/s eta 0:00:03\n",
      "   -------- ------------------------------- 1.9/8.7 MB 2.5 MB/s eta 0:00:03\n",
      "   -------- ------------------------------- 1.9/8.7 MB 2.4 MB/s eta 0:00:03\n",
      "   --------- ------------------------------ 2.1/8.7 MB 2.4 MB/s eta 0:00:03\n",
      "   ---------- ----------------------------- 2.2/8.7 MB 2.4 MB/s eta 0:00:03\n",
      "   ---------- ----------------------------- 2.3/8.7 MB 2.4 MB/s eta 0:00:03\n",
      "   ---------- ----------------------------- 2.3/8.7 MB 2.4 MB/s eta 0:00:03\n",
      "   ----------- ---------------------------- 2.4/8.7 MB 2.3 MB/s eta 0:00:03\n",
      "   ----------- ---------------------------- 2.5/8.7 MB 2.3 MB/s eta 0:00:03\n",
      "   ------------ --------------------------- 2.6/8.7 MB 2.3 MB/s eta 0:00:03\n",
      "   ------------ --------------------------- 2.7/8.7 MB 2.3 MB/s eta 0:00:03\n",
      "   ------------ --------------------------- 2.8/8.7 MB 2.3 MB/s eta 0:00:03\n",
      "   ------------- -------------------------- 2.9/8.7 MB 2.3 MB/s eta 0:00:03\n",
      "   ------------- -------------------------- 3.0/8.7 MB 2.3 MB/s eta 0:00:03\n",
      "   -------------- ------------------------- 3.1/8.7 MB 2.3 MB/s eta 0:00:03\n",
      "   -------------- ------------------------- 3.2/8.7 MB 2.3 MB/s eta 0:00:03\n",
      "   -------------- ------------------------- 3.2/8.7 MB 2.3 MB/s eta 0:00:03\n",
      "   --------------- ------------------------ 3.4/8.7 MB 2.3 MB/s eta 0:00:03\n",
      "   --------------- ------------------------ 3.4/8.7 MB 2.2 MB/s eta 0:00:03\n",
      "   --------------- ------------------------ 3.4/8.7 MB 2.2 MB/s eta 0:00:03\n",
      "   ---------------- ----------------------- 3.6/8.7 MB 2.2 MB/s eta 0:00:03\n",
      "   ---------------- ----------------------- 3.6/8.7 MB 2.2 MB/s eta 0:00:03\n",
      "   ----------------- ---------------------- 3.7/8.7 MB 2.2 MB/s eta 0:00:03\n",
      "   ----------------- ---------------------- 3.7/8.7 MB 2.2 MB/s eta 0:00:03\n",
      "   ----------------- ---------------------- 3.7/8.7 MB 2.1 MB/s eta 0:00:03\n",
      "   ----------------- ---------------------- 3.8/8.7 MB 2.1 MB/s eta 0:00:03\n",
      "   ----------------- ---------------------- 3.9/8.7 MB 2.1 MB/s eta 0:00:03\n",
      "   ------------------ --------------------- 4.0/8.7 MB 2.1 MB/s eta 0:00:03\n",
      "   ------------------ --------------------- 4.0/8.7 MB 2.0 MB/s eta 0:00:03\n",
      "   ------------------ --------------------- 4.1/8.7 MB 2.0 MB/s eta 0:00:03\n",
      "   ------------------ --------------------- 4.1/8.7 MB 2.0 MB/s eta 0:00:03\n",
      "   ------------------- -------------------- 4.2/8.7 MB 2.0 MB/s eta 0:00:03\n",
      "   ------------------- -------------------- 4.3/8.7 MB 2.0 MB/s eta 0:00:03\n",
      "   -------------------- ------------------- 4.4/8.7 MB 2.0 MB/s eta 0:00:03\n",
      "   -------------------- ------------------- 4.5/8.7 MB 2.0 MB/s eta 0:00:03\n",
      "   --------------------- ------------------ 4.6/8.7 MB 2.0 MB/s eta 0:00:03\n",
      "   --------------------- ------------------ 4.6/8.7 MB 2.0 MB/s eta 0:00:03\n",
      "   --------------------- ------------------ 4.8/8.7 MB 2.0 MB/s eta 0:00:02\n",
      "   --------------------- ------------------ 4.8/8.7 MB 2.0 MB/s eta 0:00:03\n",
      "   ---------------------- ----------------- 4.9/8.7 MB 2.0 MB/s eta 0:00:02\n",
      "   ---------------------- ----------------- 5.0/8.7 MB 2.0 MB/s eta 0:00:02\n",
      "   ---------------------- ----------------- 5.0/8.7 MB 2.0 MB/s eta 0:00:02\n",
      "   ----------------------- ---------------- 5.1/8.7 MB 1.9 MB/s eta 0:00:02\n",
      "   ----------------------- ---------------- 5.1/8.7 MB 1.9 MB/s eta 0:00:02\n",
      "   ----------------------- ---------------- 5.2/8.7 MB 1.9 MB/s eta 0:00:02\n",
      "   ------------------------ --------------- 5.3/8.7 MB 1.9 MB/s eta 0:00:02\n",
      "   ------------------------ --------------- 5.3/8.7 MB 1.9 MB/s eta 0:00:02\n",
      "   ------------------------ --------------- 5.4/8.7 MB 1.9 MB/s eta 0:00:02\n",
      "   ------------------------- -------------- 5.5/8.7 MB 1.9 MB/s eta 0:00:02\n",
      "   ------------------------- -------------- 5.6/8.7 MB 1.9 MB/s eta 0:00:02\n",
      "   ------------------------- -------------- 5.7/8.7 MB 1.9 MB/s eta 0:00:02\n",
      "   ------------------------- -------------- 5.7/8.7 MB 1.9 MB/s eta 0:00:02\n",
      "   -------------------------- ------------- 5.8/8.7 MB 1.9 MB/s eta 0:00:02\n",
      "   -------------------------- ------------- 5.8/8.7 MB 1.9 MB/s eta 0:00:02\n",
      "   --------------------------- ------------ 5.9/8.7 MB 1.9 MB/s eta 0:00:02\n",
      "   --------------------------- ------------ 5.9/8.7 MB 1.9 MB/s eta 0:00:02\n",
      "   --------------------------- ------------ 6.0/8.7 MB 1.9 MB/s eta 0:00:02\n",
      "   --------------------------- ------------ 6.0/8.7 MB 1.9 MB/s eta 0:00:02\n",
      "   --------------------------- ------------ 6.0/8.7 MB 1.9 MB/s eta 0:00:02\n",
      "   --------------------------- ------------ 6.0/8.7 MB 1.9 MB/s eta 0:00:02\n",
      "   --------------------------- ------------ 6.0/8.7 MB 1.9 MB/s eta 0:00:02\n",
      "   --------------------------- ------------ 6.0/8.7 MB 1.9 MB/s eta 0:00:02\n",
      "   --------------------------- ------------ 6.0/8.7 MB 1.9 MB/s eta 0:00:02\n",
      "   --------------------------- ------------ 6.0/8.7 MB 1.9 MB/s eta 0:00:02\n",
      "   --------------------------- ------------ 6.0/8.7 MB 1.9 MB/s eta 0:00:02\n",
      "   --------------------------- ------------ 6.0/8.7 MB 1.9 MB/s eta 0:00:02\n",
      "   --------------------------- ------------ 6.0/8.7 MB 1.9 MB/s eta 0:00:02\n",
      "   ----------------------------- ---------- 6.5/8.7 MB 1.8 MB/s eta 0:00:02\n",
      "   ------------------------------ --------- 6.6/8.7 MB 1.7 MB/s eta 0:00:02\n",
      "   ------------------------------ --------- 6.7/8.7 MB 1.8 MB/s eta 0:00:02\n",
      "   ------------------------------- -------- 6.8/8.7 MB 1.8 MB/s eta 0:00:02\n",
      "   ------------------------------- -------- 6.9/8.7 MB 1.8 MB/s eta 0:00:02\n",
      "   ------------------------------- -------- 6.9/8.7 MB 1.8 MB/s eta 0:00:02\n",
      "   ------------------------------- -------- 7.0/8.7 MB 1.8 MB/s eta 0:00:01\n",
      "   -------------------------------- ------- 7.0/8.7 MB 1.7 MB/s eta 0:00:01\n",
      "   -------------------------------- ------- 7.1/8.7 MB 1.8 MB/s eta 0:00:01\n",
      "   --------------------------------- ------ 7.4/8.7 MB 1.8 MB/s eta 0:00:01\n",
      "   ---------------------------------- ----- 7.4/8.7 MB 1.8 MB/s eta 0:00:01\n",
      "   ---------------------------------- ----- 7.6/8.7 MB 1.8 MB/s eta 0:00:01\n",
      "   ----------------------------------- ---- 7.7/8.7 MB 1.8 MB/s eta 0:00:01\n",
      "   ----------------------------------- ---- 7.7/8.7 MB 1.8 MB/s eta 0:00:01\n",
      "   ------------------------------------ --- 8.0/8.7 MB 1.8 MB/s eta 0:00:01\n",
      "   ------------------------------------ --- 8.0/8.7 MB 1.8 MB/s eta 0:00:01\n",
      "   ------------------------------------- -- 8.1/8.7 MB 1.8 MB/s eta 0:00:01\n",
      "   ------------------------------------- -- 8.2/8.7 MB 1.8 MB/s eta 0:00:01\n",
      "   -------------------------------------- - 8.4/8.7 MB 1.9 MB/s eta 0:00:01\n",
      "   -------------------------------------- - 8.5/8.7 MB 1.8 MB/s eta 0:00:01\n",
      "   ---------------------------------------  8.6/8.7 MB 1.8 MB/s eta 0:00:01\n",
      "   ---------------------------------------  8.7/8.7 MB 1.9 MB/s eta 0:00:01\n",
      "   ---------------------------------------  8.7/8.7 MB 1.9 MB/s eta 0:00:01\n",
      "   ---------------------------------------  8.7/8.7 MB 1.9 MB/s eta 0:00:01\n",
      "   ---------------------------------------- 8.7/8.7 MB 1.8 MB/s eta 0:00:00\n",
      "Downloading altair-5.4.1-py3-none-any.whl (658 kB)\n",
      "   ---------------------------------------- 0.0/658.1 kB ? eta -:--:--\n",
      "   ------ --------------------------------- 102.4/658.1 kB 5.8 MB/s eta 0:00:01\n",
      "   --------- ------------------------------ 153.6/658.1 kB 2.3 MB/s eta 0:00:01\n",
      "   -------------- ------------------------- 235.5/658.1 kB 2.0 MB/s eta 0:00:01\n",
      "   ----------------------- ---------------- 389.1/658.1 kB 2.4 MB/s eta 0:00:01\n",
      "   -------------------------- ------------- 430.1/658.1 kB 2.4 MB/s eta 0:00:01\n",
      "   ------------------------------- -------- 512.0/658.1 kB 2.0 MB/s eta 0:00:01\n",
      "   ------------------------------------ --- 593.9/658.1 kB 2.2 MB/s eta 0:00:01\n",
      "   ---------------------------------------  655.4/658.1 kB 2.1 MB/s eta 0:00:01\n",
      "   ---------------------------------------  655.4/658.1 kB 2.1 MB/s eta 0:00:01\n",
      "   ---------------------------------------- 658.1/658.1 kB 1.7 MB/s eta 0:00:00\n",
      "Downloading pydeck-0.9.1-py2.py3-none-any.whl (6.9 MB)\n",
      "   ---------------------------------------- 0.0/6.9 MB ? eta -:--:--\n",
      "   ---------------------------------------- 0.1/6.9 MB ? eta -:--:--\n",
      "    --------------------------------------- 0.1/6.9 MB 1.8 MB/s eta 0:00:04\n",
      "   - -------------------------------------- 0.2/6.9 MB 2.0 MB/s eta 0:00:04\n",
      "   - -------------------------------------- 0.2/6.9 MB 2.0 MB/s eta 0:00:04\n",
      "   -- ------------------------------------- 0.4/6.9 MB 1.9 MB/s eta 0:00:04\n",
      "   -- ------------------------------------- 0.4/6.9 MB 1.6 MB/s eta 0:00:05\n",
      "   ---- ----------------------------------- 0.7/6.9 MB 2.0 MB/s eta 0:00:04\n",
      "   ----- ---------------------------------- 0.9/6.9 MB 2.2 MB/s eta 0:00:03\n",
      "   ----- ---------------------------------- 1.0/6.9 MB 2.3 MB/s eta 0:00:03\n",
      "   ------- -------------------------------- 1.2/6.9 MB 2.4 MB/s eta 0:00:03\n",
      "   ------- -------------------------------- 1.2/6.9 MB 2.4 MB/s eta 0:00:03\n",
      "   ------- -------------------------------- 1.4/6.9 MB 2.4 MB/s eta 0:00:03\n",
      "   -------- ------------------------------- 1.5/6.9 MB 2.4 MB/s eta 0:00:03\n",
      "   --------- ------------------------------ 1.6/6.9 MB 2.5 MB/s eta 0:00:03\n",
      "   ---------- ----------------------------- 1.8/6.9 MB 2.5 MB/s eta 0:00:03\n",
      "   ---------- ----------------------------- 1.9/6.9 MB 2.5 MB/s eta 0:00:02\n",
      "   ----------- ---------------------------- 2.0/6.9 MB 2.5 MB/s eta 0:00:02\n",
      "   ------------ --------------------------- 2.2/6.9 MB 2.6 MB/s eta 0:00:02\n",
      "   ------------- -------------------------- 2.3/6.9 MB 2.6 MB/s eta 0:00:02\n",
      "   ------------- -------------------------- 2.4/6.9 MB 2.6 MB/s eta 0:00:02\n",
      "   -------------- ------------------------- 2.4/6.9 MB 2.5 MB/s eta 0:00:02\n",
      "   --------------- ------------------------ 2.6/6.9 MB 2.6 MB/s eta 0:00:02\n",
      "   --------------- ------------------------ 2.7/6.9 MB 2.6 MB/s eta 0:00:02\n",
      "   ---------------- ----------------------- 2.9/6.9 MB 2.6 MB/s eta 0:00:02\n",
      "   ----------------- ---------------------- 3.0/6.9 MB 2.6 MB/s eta 0:00:02\n",
      "   ------------------ --------------------- 3.2/6.9 MB 2.7 MB/s eta 0:00:02\n",
      "   ------------------- -------------------- 3.4/6.9 MB 2.7 MB/s eta 0:00:02\n",
      "   -------------------- ------------------- 3.5/6.9 MB 2.7 MB/s eta 0:00:02\n",
      "   --------------------- ------------------ 3.7/6.9 MB 2.8 MB/s eta 0:00:02\n",
      "   ---------------------- ----------------- 3.9/6.9 MB 2.8 MB/s eta 0:00:02\n",
      "   ----------------------- ---------------- 4.0/6.9 MB 2.8 MB/s eta 0:00:02\n",
      "   ------------------------ --------------- 4.2/6.9 MB 2.8 MB/s eta 0:00:01\n",
      "   ------------------------- -------------- 4.4/6.9 MB 2.8 MB/s eta 0:00:01\n",
      "   -------------------------- ------------- 4.5/6.9 MB 2.8 MB/s eta 0:00:01\n",
      "   -------------------------- ------------- 4.6/6.9 MB 2.9 MB/s eta 0:00:01\n",
      "   -------------------------- ------------- 4.6/6.9 MB 2.9 MB/s eta 0:00:01\n",
      "   ---------------------------- ----------- 5.0/6.9 MB 2.9 MB/s eta 0:00:01\n",
      "   ----------------------------- ---------- 5.1/6.9 MB 2.9 MB/s eta 0:00:01\n",
      "   ----------------------------- ---------- 5.2/6.9 MB 2.9 MB/s eta 0:00:01\n",
      "   ------------------------------- -------- 5.4/6.9 MB 2.9 MB/s eta 0:00:01\n",
      "   -------------------------------- ------- 5.6/6.9 MB 3.0 MB/s eta 0:00:01\n",
      "   --------------------------------- ------ 5.8/6.9 MB 3.0 MB/s eta 0:00:01\n",
      "   ---------------------------------- ----- 5.9/6.9 MB 3.0 MB/s eta 0:00:01\n",
      "   ----------------------------------- ---- 6.1/6.9 MB 3.0 MB/s eta 0:00:01\n",
      "   ------------------------------------ --- 6.3/6.9 MB 3.0 MB/s eta 0:00:01\n",
      "   ------------------------------------ --- 6.3/6.9 MB 3.0 MB/s eta 0:00:01\n",
      "   ------------------------------------- -- 6.5/6.9 MB 2.9 MB/s eta 0:00:01\n",
      "   ---------------------------------------  6.8/6.9 MB 3.0 MB/s eta 0:00:01\n",
      "   ---------------------------------------  6.9/6.9 MB 3.0 MB/s eta 0:00:01\n",
      "   ---------------------------------------  6.9/6.9 MB 3.0 MB/s eta 0:00:01\n",
      "   ---------------------------------------- 6.9/6.9 MB 2.9 MB/s eta 0:00:00\n",
      "Downloading tenacity-8.5.0-py3-none-any.whl (28 kB)\n",
      "Downloading toml-0.10.2-py2.py3-none-any.whl (16 kB)\n",
      "Downloading watchdog-4.0.2-py3-none-win_amd64.whl (82 kB)\n",
      "   ---------------------------------------- 0.0/82.9 kB ? eta -:--:--\n",
      "   ---------------------------------------- 82.9/82.9 kB ? eta 0:00:00\n",
      "Downloading narwhals-1.6.2-py3-none-any.whl (159 kB)\n",
      "   ---------------------------------------- 0.0/159.2 kB ? eta -:--:--\n",
      "   ---------------------------------------- 159.2/159.2 kB 9.3 MB/s eta 0:00:00\n",
      "Installing collected packages: watchdog, toml, tenacity, narwhals, pydeck, altair, streamlit\n",
      "  Attempting uninstall: tenacity\n",
      "    Found existing installation: tenacity 9.0.0\n",
      "    Uninstalling tenacity-9.0.0:\n",
      "      Successfully uninstalled tenacity-9.0.0\n",
      "Successfully installed altair-5.4.1 narwhals-1.6.2 pydeck-0.9.1 streamlit-1.38.0 tenacity-8.5.0 toml-0.10.2 watchdog-4.0.2\n"
     ]
    }
   ],
   "source": [
    "!pip install streamlit"
   ]
  }
 ],
 "metadata": {
  "kernelspec": {
   "display_name": "Python 3",
   "language": "python",
   "name": "python3"
  },
  "language_info": {
   "codemirror_mode": {
    "name": "ipython",
    "version": 3
   },
   "file_extension": ".py",
   "mimetype": "text/x-python",
   "name": "python",
   "nbconvert_exporter": "python",
   "pygments_lexer": "ipython3",
   "version": "3.10.14"
  }
 },
 "nbformat": 4,
 "nbformat_minor": 2
}
